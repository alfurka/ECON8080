{
 "cells": [
  {
   "cell_type": "markdown",
   "metadata": {
    "slideshow": {
     "slide_type": "slide"
    }
   },
   "source": [
    "## Question 1"
   ]
  },
  {
   "cell_type": "markdown",
   "metadata": {
    "slideshow": {
     "slide_type": "-"
    }
   },
   "source": [
    "#### Ali Furkan Kalay\n",
    "#### 45625365"
   ]
  },
  {
   "cell_type": "code",
   "execution_count": 1,
   "metadata": {
    "collapsed": true,
    "slideshow": {
     "slide_type": "-"
    }
   },
   "outputs": [],
   "source": [
    "import numpy as np\n",
    "import matplotlib.pyplot as plt"
   ]
  },
  {
   "cell_type": "markdown",
   "metadata": {},
   "source": [
    "**Hands-on exercise** \n",
    "\n",
    "Consider \n",
    "$$ x^3-x-1 = 0.$$\n",
    "\n",
    "This implies both \n",
    "$$ x = (x+1)^{1/3}$$\n",
    "and\n",
    "$$ x = x^3 -1.$$\n",
    "\n",
    "Implement fixed-point iteration $x_{n+1} = f(x_n)$ from $x_0=1.0$, using\n",
    "1. $f(x) = (x+1)^{1/3}$ and\n",
    "2. $f(x) = x^3 -1.$\n",
    "\n",
    "To guard against non-convergence, you may set a max number of iteration to terminate the iteration.\n"
   ]
  },
  {
   "cell_type": "markdown",
   "metadata": {},
   "source": [
    "### Solution"
   ]
  },
  {
   "cell_type": "markdown",
   "metadata": {},
   "source": [
    "I define the functions:"
   ]
  },
  {
   "cell_type": "code",
   "execution_count": 2,
   "metadata": {
    "collapsed": true
   },
   "outputs": [],
   "source": [
    "f = lambda x: (x+1)**(1/3)\n",
    "g = lambda x: x**3 - 1"
   ]
  },
  {
   "cell_type": "code",
   "execution_count": 3,
   "metadata": {
    "collapsed": true
   },
   "outputs": [],
   "source": [
    "def fp(fun, x0 = 1, tolerance = 1e-8, iteration_max = 100):\n",
    "    steps = []\n",
    "    dx = np.absolute(x0-fun(x0)) # The initial convergence distance\n",
    "    for i in range(iteration_max):\n",
    "        if dx < np.absolute(x0-fun(x0)): # If the function diverges we stop immediately.\n",
    "            print('The function diverges..')\n",
    "            break\n",
    "        dx = np.absolute(x0-fun(x0)) # Update convergance \n",
    "        if dx < tolerance:\n",
    "            break\n",
    "        x0 = fun(x0)\n",
    "        steps.append(x0)\n",
    "    return steps"
   ]
  },
  {
   "cell_type": "code",
   "execution_count": 4,
   "metadata": {},
   "outputs": [
    {
     "name": "stdout",
     "output_type": "stream",
     "text": [
      "The function diverges..\n"
     ]
    }
   ],
   "source": [
    "points = fp(g)"
   ]
  },
  {
   "cell_type": "markdown",
   "metadata": {},
   "source": [
    "### Why g does not converge?"
   ]
  },
  {
   "cell_type": "code",
   "execution_count": 5,
   "metadata": {
    "collapsed": true
   },
   "outputs": [],
   "source": [
    "x = np.linspace(-5,5)\n",
    "y = [3*i**2 for i in x]"
   ]
  },
  {
   "cell_type": "code",
   "execution_count": 6,
   "metadata": {},
   "outputs": [
    {
     "data": {
      "image/png": "[encoded data removed]",
      "text/plain": [
       "<matplotlib.figure.Figure at 0x26f9733e518>"
      ]
     },
     "metadata": {
      "needs_background": "light"
     },
     "output_type": "display_data"
    }
   ],
   "source": [
    "plt.figure(figsize=(8,4))\n",
    "plt.plot(x,y)\n",
    "plt.title('$g\\'(x)=3x^2$')\n",
    "plt.axhline(y=1,color='red' )\n",
    "plt.axvline(x=1.3247179532369109,color='darkred' )\n",
    "plt.show()"
   ]
  },
  {
   "cell_type": "markdown",
   "metadata": {},
   "source": [
    "We know that $g'(x) = 3x^2$ where $||g'(1)|| = 3 > 1$. So $g$ does not converge to the root. Starting with a different initial value, $g$ still cannot diverge. Because the norm of the Jacobian matrix is still greater than 1 at the solution, i.g. $||g'(1.32)||> 1$. What if we have initial value with ||g'(x)||<1?"
   ]
  },
  {
   "cell_type": "code",
   "execution_count": 7,
   "metadata": {
    "scrolled": true
   },
   "outputs": [
    {
     "name": "stdout",
     "output_type": "stream",
     "text": [
      "The function diverges..\n"
     ]
    }
   ],
   "source": [
    "points = fp(g, x0=0)"
   ]
  },
  {
   "cell_type": "markdown",
   "metadata": {},
   "source": [
    "Because solution is not within the interval."
   ]
  },
  {
   "cell_type": "code",
   "execution_count": 8,
   "metadata": {},
   "outputs": [
    {
     "data": {
      "text/plain": [
       "[-1, -2]"
      ]
     },
     "execution_count": 8,
     "metadata": {},
     "output_type": "execute_result"
    }
   ],
   "source": [
    "points"
   ]
  },
  {
   "cell_type": "markdown",
   "metadata": {},
   "source": [
    "### Let's try $f$"
   ]
  },
  {
   "cell_type": "code",
   "execution_count": 9,
   "metadata": {
    "collapsed": true
   },
   "outputs": [],
   "source": [
    "points = fp(f)"
   ]
  },
  {
   "cell_type": "code",
   "execution_count": 10,
   "metadata": {},
   "outputs": [
    {
     "data": {
      "text/plain": [
       "[1.2599210498948732,\n",
       " 1.3122938366832888,\n",
       " 1.3223538191388249,\n",
       " 1.324268744551578,\n",
       " 1.3246326252509202,\n",
       " 1.3247017485103587,\n",
       " 1.3247148784409506,\n",
       " 1.324717372435671,\n",
       " 1.3247178461621456,\n",
       " 1.3247179361449652,\n",
       " 1.3247179532369109]"
      ]
     },
     "execution_count": 10,
     "metadata": {},
     "output_type": "execute_result"
    }
   ],
   "source": [
    "points"
   ]
  },
  {
   "cell_type": "markdown",
   "metadata": {},
   "source": [
    "It converges very fast. "
   ]
  },
  {
   "cell_type": "code",
   "execution_count": 11,
   "metadata": {
    "scrolled": true
   },
   "outputs": [
    {
     "data": {
      "image/png": "[encoded data removed]",
      "text/plain": [
       "<matplotlib.figure.Figure at 0x26f974532b0>"
      ]
     },
     "metadata": {
      "needs_background": "light"
     },
     "output_type": "display_data"
    }
   ],
   "source": [
    "plt.figure(figsize=(8,4))\n",
    "plt.plot(points)\n",
    "plt.ylabel('Value')\n",
    "plt.xlabel('Iterations')\n",
    "plt.show()"
   ]
  },
  {
   "cell_type": "markdown",
   "metadata": {},
   "source": [
    "The convergence point is:"
   ]
  },
  {
   "cell_type": "code",
   "execution_count": 12,
   "metadata": {},
   "outputs": [
    {
     "name": "stdout",
     "output_type": "stream",
     "text": [
      "1.3247179532369109\n"
     ]
    }
   ],
   "source": [
    "print(points[-1])"
   ]
  },
  {
   "cell_type": "markdown",
   "metadata": {},
   "source": [
    "Let's compare $f'$ and $g'$. $f'(x) = (1/3)(1+x)^{-2/3}$:"
   ]
  },
  {
   "cell_type": "code",
   "execution_count": 13,
   "metadata": {
    "scrolled": true
   },
   "outputs": [
    {
     "name": "stderr",
     "output_type": "stream",
     "text": [
      "C:\\ProgramData\\Anaconda3\\lib\\site-packages\\ipykernel_launcher.py:2: RuntimeWarning: divide by zero encountered in double_scalars\n",
      "  \n"
     ]
    },
    {
     "data": {
      "image/png": "[encoded data removed]",
      "text/plain": [
       "<matplotlib.figure.Figure at 0x26f975fa518>"
      ]
     },
     "metadata": {
      "needs_background": "light"
     },
     "output_type": "display_data"
    }
   ],
   "source": [
    "x = np.linspace(-1,5)\n",
    "y = [(1/3)*(1+i)**(-2/3) for i in x]\n",
    "plt.figure(figsize=(8,4))\n",
    "plt.plot(x,y)\n",
    "plt.title('$f\\'(x)=(1/3)(1+x)^{-2/3}$')\n",
    "plt.axhline(y=1,color='red' )\n",
    "plt.axvline(x=1.3247179532369109,color='darkred' )\n",
    "plt.show()"
   ]
  },
  {
   "cell_type": "markdown",
   "metadata": {},
   "source": [
    "The condition is satisfied whenever $x\\ge-1$. "
   ]
  },
  {
   "cell_type": "code",
   "execution_count": 14,
   "metadata": {},
   "outputs": [
    {
     "data": {
      "text/plain": [
       "[10.003332222839093,\n",
       " 2.22420463751057,\n",
       " 1.4773187144402105,\n",
       " 1.35309190077512,\n",
       " 1.3300857164450086,\n",
       " 1.3257367619969291,\n",
       " 1.3249114476473403,\n",
       " 1.3247547091008973,\n",
       " 1.3247249381040938,\n",
       " 1.3247192832350594,\n",
       " 1.324718209112267,\n",
       " 1.3247180050861647,\n",
       " 1.3247179663320685]"
      ]
     },
     "execution_count": 14,
     "metadata": {},
     "output_type": "execute_result"
    }
   ],
   "source": [
    "fp(f,x0=1000)"
   ]
  },
  {
   "cell_type": "code",
   "execution_count": 15,
   "metadata": {},
   "outputs": [
    {
     "data": {
      "text/plain": [
       "[(0.23207944168063907+0.40197338438308494j),\n",
       " (1.0842522731289266+0.11440104130119826j),\n",
       " (1.2777972640164699+0.023357867523739292j),\n",
       " (1.3157602534855346+0.004497385355752118j),\n",
       " (1.323014834741073+0.0008564647232431448j),\n",
       " (1.3243943956067108+0.0001627622026414504j),\n",
       " (1.3246564956288445+3.091902261597387e-05j),\n",
       " (1.3247062827328684+5.873071797949459e-06j),\n",
       " (1.3247157397062248+1.115574715673689e-06j),\n",
       " (1.3247175360303807+2.1189994162349982e-07j),\n",
       " (1.3247178772364367+4.0249712994284166e-08j),\n",
       " (1.3247179420474264+7.645302897165956e-09j),\n",
       " (1.3247179543580643+1.4522005488920583e-09j)]"
      ]
     },
     "execution_count": 15,
     "metadata": {},
     "output_type": "execute_result"
    }
   ],
   "source": [
    "fp(f,x0=-1.1)"
   ]
  },
  {
   "cell_type": "markdown",
   "metadata": {},
   "source": [
    "Now we are converging to `complex numbers`, so Fixed Point Optimization is sensitive to initial value. "
   ]
  }
 ],
 "metadata": {
  "kernelspec": {
   "display_name": "Python 3",
   "language": "python",
   "name": "python3"
  },
  "language_info": {
   "codemirror_mode": {
    "name": "ipython",
    "version": 3
   },
   "file_extension": ".py",
   "mimetype": "text/x-python",
   "name": "python",
   "nbconvert_exporter": "python",
   "pygments_lexer": "ipython3",
   "version": "3.6.4"
  }
 },
 "nbformat": 4,
 "nbformat_minor": 2
}
