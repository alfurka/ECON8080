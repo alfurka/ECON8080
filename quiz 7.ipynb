{
 "cells": [
  {
   "cell_type": "markdown",
   "metadata": {},
   "source": [
    "# Quiz 7 - Question 3\n",
    "\n",
    "*In the Ramsey model example, we know that (a) if the guess of $c(0)$ is \"too high\", capital eventually starts decreasing, and if the guess of $c(0)$ is \"too low\", consumption eventually starts decreasing. Propose an algorithm that pins down the \"correct\" $c(0)$. Hint: think of a \"bisection\"-like method. *\n"
   ]
  },
  {
   "cell_type": "markdown",
   "metadata": {},
   "source": [
    "Consider a continuous-time Ramsey model. The social planner maximizes\n",
    "\n",
    "$$ \\int_0^\\infty e^{-\\rho t} \\frac{c(t)^{1-\\theta}}{1-\\theta} dt $$\n",
    "\n",
    "subject to the resource constraint:\n",
    "\n",
    "$$ \\dot{k}(t) = f(k(t)) - c(t) -\\delta k(t), $$\n",
    "\n",
    "and the initial condition\n",
    "\n",
    "$$k(0) = k_0 >0.$$\n",
    "\n",
    "The optimality condition is given by the Euler equation:\n",
    "\n",
    "$$ \\frac{\\dot{c}(t)}{c(t)} = \\frac{1}{\\theta}( f'(k(t)) -\\delta-\\rho),$$\n",
    "\n",
    "the resource constraint, the initial condition, and the transversality condition:\n",
    "\n",
    "$$ 0 = \\lim_{t\\rightarrow \\infty} e^{\\int_0^t (f'(k(s))-\\delta-\\rho)ds} k(t). $$ "
   ]
  },
  {
   "cell_type": "markdown",
   "metadata": {},
   "source": [
    "## Steps:"
   ]
  },
  {
   "cell_type": "markdown",
   "metadata": {},
   "source": [
    "1. Discretize the time with enough small steps,$h$, such that $\\{ t_0,t_1,...,t_N, ... \\}$ such that $t_0 = 0$. \n",
    "2. Discretize the ODEs: \\begin{align} \\dfrac{k_{t+1} - k_t}{h} &= f(k_t) - c_t -\\delta k_t,\\\\ \n",
    "\\dfrac{c_{t+1} - c_t}{h} &= \\frac{c_t}{\\theta}( f'(k_t) -\\delta-\\rho)\n",
    "\\end{align}\n",
    "3. We have initial value for the capital, $k_0 = \\bar{k}$. We make two initial guess for $c_0^U$ and $c_0^L$ such that $c_0^L < c_0^U$. Let $c_0^L=0$ which is the minimum possible consumption level and let $c_0^U$ be sufficiently high such that capital eventually starts decreasing after iterating through ODE.\n",
    "4. Calculate the mid-point: $c_0^M = (c_0^L + c_0^U) / 2 $. \n",
    "5. If capital eventually starts decreasing we update upper boundry $c_0^H = c_0^M$, if consumption eventually starts decreasing we update lower boundry $c_0^L = c_0^M$. In either case go back to step 4. \n",
    "6. If neither happens and if we converge steady-state level capital and consumption levels then $c_0^* = c_0^M$. "
   ]
  }
 ],
 "metadata": {
  "anaconda-cloud": {},
  "kernelspec": {
   "display_name": "Python 3",
   "language": "python",
   "name": "python3"
  },
  "language_info": {
   "codemirror_mode": {
    "name": "ipython",
    "version": 3
   },
   "file_extension": ".py",
   "mimetype": "text/x-python",
   "name": "python",
   "nbconvert_exporter": "python",
   "pygments_lexer": "ipython3",
   "version": "3.6.4"
  }
 },
 "nbformat": 4,
 "nbformat_minor": 2
}
