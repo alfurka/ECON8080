{
 "cells": [
  {
   "cell_type": "markdown",
   "metadata": {},
   "source": [
    "**Name: Ali Furkan Kalay**\n",
    "\n",
    "**ID: 45625365**"
   ]
  },
  {
   "cell_type": "code",
   "execution_count": 1,
   "metadata": {
    "collapsed": true
   },
   "outputs": [],
   "source": [
    "import numpy as np\n",
    "from scipy import optimize\n",
    "import matplotlib.pyplot as plt"
   ]
  },
  {
   "cell_type": "markdown",
   "metadata": {},
   "source": [
    "## Question 1"
   ]
  },
  {
   "cell_type": "markdown",
   "metadata": {},
   "source": [
    "The function takes 5 arguments with 2 default values. `F` is the function set, `DF` is the Jacobian matrix of given function and `X` is the initial value. Iteration number and tolerance can be adjusted if required. "
   ]
  },
  {
   "cell_type": "code",
   "execution_count": 2,
   "metadata": {
    "collapsed": true
   },
   "outputs": [],
   "source": [
    "def newton_rapson(F, DF, X, max_iteration = 100, tolerance = 1e-5):\n",
    "    for i in range(max_iteration):\n",
    "        dx = np.linalg.solve(DF(X), F(X))\n",
    "        X = X - dx\n",
    "        print(X)\n",
    "        if np.absolute(dx).sum()<tolerance:\n",
    "            break"
   ]
  },
  {
   "cell_type": "markdown",
   "metadata": {},
   "source": [
    "#### Example 1\n",
    "\n",
    "Suppose we have the following function defined below:\n",
    "\n",
    "$$\n",
    "f(x) = \\begin{cases}\n",
    "f_1(x) = x_2^2 - 2x_1 + x_2^2 - x_3 + 1\\\\\n",
    "f_2(x) = x_1x_2^2- x_1 -3x_2+x_2x_3+2\\\\\n",
    "f_3(x) = x_1x_3^2-3x_3+x_2x_3^2+x_1x_2\n",
    "\\end{cases}\n",
    "$$"
   ]
  },
  {
   "cell_type": "code",
   "execution_count": 3,
   "metadata": {
    "collapsed": true
   },
   "outputs": [],
   "source": [
    "def f1(X):\n",
    "    f_1 = X[0]**2 - 2 * X[0] + X[1] ** 2 - X[2] + 1\n",
    "    f_2 = X[0] * X[1] ** 2 - X[0] - 3 * X[1] + X[1] * X[2] + 2\n",
    "    f_3 = X[0] * X[2] ** 2 - 3 * X[2] + X[1] * X[2] ** 2 + X[0] * X[1]\n",
    "    return np.array([f_1,f_2,f_3])"
   ]
  },
  {
   "cell_type": "markdown",
   "metadata": {},
   "source": [
    "The Jacobian matrix of given function set:\n",
    "\n",
    "$$\n",
    "J(x) = \\begin{bmatrix}2x_1-2&2x_2&-1\\\\\n",
    "x_2^2 - 1& 2x_1x_2-3+x_3&x_2\\\\\n",
    "x_3^2+x_2&x_3^2+x_1& 2x_1x_3-3+2x_2x_3\n",
    "\\end{bmatrix}\n",
    "$$"
   ]
  },
  {
   "cell_type": "code",
   "execution_count": 4,
   "metadata": {
    "collapsed": true
   },
   "outputs": [],
   "source": [
    "def df1(X):\n",
    "    df_1 = np.array([2 * X[0] - 2, 2 * X[1], -1])\n",
    "    df_2 = np.array([X[1]**2 - 1, 2 * X[0] * X[1] - 3 + X[2], X[1]])\n",
    "    df_3 = np.array([X[2]**2 + X[1], X[2]**2 + X[0], 2 * X[0]* X[2] - 3 + 2 * X[1] * X[2]])\n",
    "    return np.array([df_1, df_2, df_3])"
   ]
  },
  {
   "cell_type": "markdown",
   "metadata": {},
   "source": [
    "With initial points $(3,3,3)$:"
   ]
  },
  {
   "cell_type": "code",
   "execution_count": 5,
   "metadata": {},
   "outputs": [
    {
     "name": "stdout",
     "output_type": "stream",
     "text": [
      "[0.90243902 2.6097561  2.26829268]\n",
      "[0.93521491 1.6218234  1.65742298]\n",
      "[0.76161568 1.23552297 1.40397937]\n",
      "[1.06832127 1.04639128 0.9697634 ]\n",
      "[0.9880828  1.0072448  1.00671344]\n",
      "[0.99994661 1.00006051 0.99992866]\n",
      "[1.00000001 1.         0.99999999]\n",
      "[1. 1. 1.]\n"
     ]
    }
   ],
   "source": [
    "newton_rapson(f1, df1, [3,3,3])"
   ]
  },
  {
   "cell_type": "markdown",
   "metadata": {},
   "source": [
    "So the solution is $x^* = (1,1,1)$. "
   ]
  },
  {
   "cell_type": "markdown",
   "metadata": {},
   "source": [
    "#### Example 2\n",
    "\n",
    "Suppose we have the following function defined below:\n",
    "\n",
    "$$\n",
    "f(x) = \\begin{cases}\n",
    "f_1(x) = 3x_1-cos(x_2x_3) - 3/2\\\\\n",
    "f_2(x) = 4x_1^2-625x_2^2+2x_3-1\\\\\n",
    "f_3(x) = 20x_3+e^{-x_1x_2}+9\n",
    "\\end{cases}\n",
    "$$"
   ]
  },
  {
   "cell_type": "code",
   "execution_count": 6,
   "metadata": {
    "collapsed": true
   },
   "outputs": [],
   "source": [
    "def f2(x):\n",
    "    f_1 = 3 * x[0]-np.cos(x[1] * x[2]) - 3/2\n",
    "    f_2 = 4 * x[0] ** 2 - 625 * x[1] ** 2 + 2 * x[2] - 1\n",
    "    f_3 = 20 * x[2] + np.e ** (-1 * x[0] * x[1]) + 9 \n",
    "    return np.array([f_1,f_2,f_3])"
   ]
  },
  {
   "cell_type": "markdown",
   "metadata": {},
   "source": [
    "The Jacobian matrix of given function set:\n",
    "\n",
    "$$\n",
    "J(x) = \\begin{bmatrix}3 & x_3 sin(x_2x_3) & x_2 sin(x_2x_3)\\\\\n",
    "8x_1 & - 1250 x_2 & 2 \\\\\n",
    "-x_2e^{-x_1x_2} & -x_1e^{-x_1x_2} & 20\n",
    "\\end{bmatrix}\n",
    "$$"
   ]
  },
  {
   "cell_type": "code",
   "execution_count": 7,
   "metadata": {
    "collapsed": true
   },
   "outputs": [],
   "source": [
    "def df2(x):\n",
    "    df_1 = np.array([3, x[2] * np.sin(x[1]*x[2]),x[1] * np.sin(x[1]*x[2])])\n",
    "    df_2 = np.array([8 * x[0], -1250 * x[1], 2])\n",
    "    df_3 = np.array([-1 * x[1] * (np.e ** (-1 * x[0] * x[1])), -1 * x[0] * (np.e ** (-1 * x[0] * x[1])), 20])\n",
    "    return np.array([df_1, df_2, df_3])"
   ]
  },
  {
   "cell_type": "markdown",
   "metadata": {},
   "source": [
    "Again with the initial point $x=(3,3,3)$:"
   ]
  },
  {
   "cell_type": "code",
   "execution_count": 8,
   "metadata": {},
   "outputs": [
    {
     "name": "stdout",
     "output_type": "stream",
     "text": [
      "[ 2.23456756  1.50419454 -0.45004803]\n",
      "[ 0.82825601  0.74832995 -0.45833389]\n",
      "[ 0.8308481   0.37501045 -0.4851685 ]\n",
      "[ 0.83310886  0.18919433 -0.49223627]\n",
      "[ 0.83325981  0.0979181  -0.49595522]\n",
      "[ 0.83327919  0.05534792 -0.49771698]\n",
      "[ 0.83328142  0.03895727 -0.49839847]\n",
      "[ 0.83328161  0.03550334 -0.49854225]\n",
      "[ 0.83328161  0.03533502 -0.49854926]\n",
      "[ 0.83328161  0.03533462 -0.49854928]\n"
     ]
    }
   ],
   "source": [
    "newton_rapson(f2, df2, [3,3,3])"
   ]
  },
  {
   "cell_type": "markdown",
   "metadata": {},
   "source": [
    "Solution is $x^* = (0.83328161, 0.03533462, -0.49854928)$"
   ]
  },
  {
   "cell_type": "markdown",
   "metadata": {},
   "source": [
    "*Test functions are taken from [http://fourier.eng.hmc.edu/e176/lectures/NM/node21.html] in order to compare results.*"
   ]
  },
  {
   "cell_type": "markdown",
   "metadata": {},
   "source": [
    "## Question 2"
   ]
  },
  {
   "cell_type": "markdown",
   "metadata": {},
   "source": [
    "Let's use the Bisection method to find the optimal saving rate. I use the function that we used in the lecture with sligh modifications instead of `scipy.optimize.bisect` to better observe the number of iterations. "
   ]
  },
  {
   "cell_type": "code",
   "execution_count": 9,
   "metadata": {
    "collapsed": true
   },
   "outputs": [],
   "source": [
    "def bisection(f,a,b,e, xtol = 1e-6, ftol = 1e-6, print_int = True):\n",
    "    L,U = a,b\n",
    "    fL, fU = f(L, e), f(U, e)\n",
    "    i_iter = 0\n",
    "    max_iter = 100\n",
    "    while i_iter<=max_iter:\n",
    "        if i_iter == 0:\n",
    "            if fL == 0:\n",
    "                M = L\n",
    "                break\n",
    "        i_iter += 1\n",
    "        M = 0.5*(L+U)\n",
    "        fM = f(M, e)\n",
    "\n",
    "        if fM*fL<0:\n",
    "            U, fU = M, fM\n",
    "        else:\n",
    "            L, fL = M, fM\n",
    "        \n",
    "        if print_int:\n",
    "            print('Iteration step = ' + str(i_iter) + ', midpoint = ' + str(M))\n",
    "            \n",
    "        if U-L <xtol*(1.0+abs(L)+abs(U)) or abs(fM)<ftol:\n",
    "            break\n",
    "\n",
    "    if i_iter == max_iter:\n",
    "        print('Max. number of iteration reached. A solution may not be accurate.')\n",
    "            \n",
    "    return M, i_iter"
   ]
  },
  {
   "cell_type": "markdown",
   "metadata": {},
   "source": [
    "The optimal saving function is: \n",
    "\n",
    "$$ 0 = \\beta E _1 \\dfrac{u'(Y_2+(1+R_2)x)}{u'(Y_1-x)} (1+R_2) - 1 $$ \n",
    "\n",
    "We have the $R_2 = Y_2 = 0 $ and $\\beta  = Y_1 = 1$, so: \n",
    "\n",
    "$$ 0 = E _1 \\dfrac{u'(Y_2+x)}{u'(1-x)} - 1 $$ \n",
    "\n",
    "Since $u'(x) = 1/x$ and $Y_2 = 0$ with probability $\\epsilon $ and $Y_2 = 1/(1-\\epsilon )$ with probability $1-\\epsilon$ we have the following expected value: \n",
    "\n",
    "$$ \\epsilon (1-x) (1+x -\\epsilon x) + x (1-x) (1-\\epsilon )^2 - x (1+x -\\epsilon) = 0 $$"
   ]
  },
  {
   "cell_type": "markdown",
   "metadata": {},
   "source": [
    "So `pythonic` expression of the solution is:"
   ]
  },
  {
   "cell_type": "code",
   "execution_count": 10,
   "metadata": {
    "collapsed": true
   },
   "outputs": [],
   "source": [
    "def saving_func(x, e):\n",
    "    return e * (1-x) * (1 + x - e * x) + x * (1-x)*(1-e)**2 - x * (1 + x - e * x)"
   ]
  },
  {
   "cell_type": "markdown",
   "metadata": {},
   "source": [
    "We define the epsilon grid from 0 to 0.9:"
   ]
  },
  {
   "cell_type": "code",
   "execution_count": 11,
   "metadata": {
    "collapsed": true
   },
   "outputs": [],
   "source": [
    "epsilons = np.linspace(0,0.9, num = 91)"
   ]
  },
  {
   "cell_type": "markdown",
   "metadata": {},
   "source": [
    "Solutions for all given epsilons are:"
   ]
  },
  {
   "cell_type": "code",
   "execution_count": 12,
   "metadata": {
    "collapsed": true
   },
   "outputs": [],
   "source": [
    "points1 = np.array([bisection(saving_func, 0 , 1, e = i, print_int = False) for i in epsilons])"
   ]
  },
  {
   "cell_type": "markdown",
   "metadata": {},
   "source": [
    "Total number of iterations for 91 optimization is:"
   ]
  },
  {
   "cell_type": "code",
   "execution_count": 13,
   "metadata": {},
   "outputs": [
    {
     "name": "stdout",
     "output_type": "stream",
     "text": [
      "1625.0\n"
     ]
    }
   ],
   "source": [
    "print(points1[:,1].sum())"
   ]
  },
  {
   "cell_type": "markdown",
   "metadata": {},
   "source": [
    "The convergence points and the epsilons plotted below:"
   ]
  },
  {
   "cell_type": "code",
   "execution_count": 14,
   "metadata": {},
   "outputs": [
    {
     "data": {
      "image/png": "[encoded data removed]",
      "text/plain": [
       "<matplotlib.figure.Figure at 0x2452d195438>"
      ]
     },
     "metadata": {
      "needs_background": "light"
     },
     "output_type": "display_data"
    }
   ],
   "source": [
    "plt.plot(epsilons, points1[:,0])\n",
    "plt.xlabel('$\\epsilon $')\n",
    "plt.ylabel('Converge points')\n",
    "plt.show()"
   ]
  },
  {
   "cell_type": "markdown",
   "metadata": {},
   "source": [
    "Now in order to converge faster, I will use Newton-Raphson method that we used in question one. I slightly change the codes used in the lecture instead of using `scipy.optimize.newton` to better observe number of iterations:"
   ]
  },
  {
   "cell_type": "code",
   "execution_count": 15,
   "metadata": {
    "collapsed": true
   },
   "outputs": [],
   "source": [
    "def NRmethod(f,g,x0,e, xtol=1e-6, ftol=1e-6, max_iter=1000):\n",
    "    x, fx, gx = x0, f(x0,e), g(x0,e)\n",
    "    i_iter = 0\n",
    "    while i_iter<=max_iter:\n",
    "        i_iter += 1\n",
    "        dx = - fx/gx\n",
    "        xp = x +dx\n",
    "        if abs(dx) <= xtol:\n",
    "            x, fx = xp, f(xp,e)        \n",
    "            break\n",
    "        x, fx, gx = xp, f(xp,e), g(xp,e)\n",
    "    if i_iter == max_iter:\n",
    "        print('Max. number of iteration reached. A solution may not be accurate.')\n",
    "        return x, i_iter\n",
    "    elif abs(fx)<=ftol: \n",
    "        return x, i_iter\n",
    "    else:\n",
    "        print('Newton-Raphson method failed to find a solution.')\n",
    "        return x, i_iter\n"
   ]
  },
  {
   "cell_type": "markdown",
   "metadata": {},
   "source": [
    "Derivative of the target function (`saving_func`):"
   ]
  },
  {
   "cell_type": "code",
   "execution_count": 16,
   "metadata": {
    "collapsed": true
   },
   "outputs": [],
   "source": [
    "def d_saving_func(x, e):\n",
    "    return (-1-e) * (1 + x - e * x) + e * (1 - x) * (1 - e) - x * (1-e) ** 2 - x * (1-e) + (1-x) * (1-e)**2 "
   ]
  },
  {
   "cell_type": "markdown",
   "metadata": {},
   "source": [
    "Solution with newton method:"
   ]
  },
  {
   "cell_type": "code",
   "execution_count": 17,
   "metadata": {
    "collapsed": true
   },
   "outputs": [],
   "source": [
    "points2 = np.array([NRmethod(saving_func,d_saving_func,x0=0.1, e = i) for i in epsilons])"
   ]
  },
  {
   "cell_type": "markdown",
   "metadata": {},
   "source": [
    "Total number of iterations are substatially reduced:"
   ]
  },
  {
   "cell_type": "code",
   "execution_count": 18,
   "metadata": {},
   "outputs": [
    {
     "name": "stdout",
     "output_type": "stream",
     "text": [
      "422.0\n"
     ]
    }
   ],
   "source": [
    "print(points2[:,1].sum())"
   ]
  },
  {
   "cell_type": "code",
   "execution_count": 19,
   "metadata": {
    "scrolled": true
   },
   "outputs": [
    {
     "data": {
      "image/png": "[encoded data removed]",
      "text/plain": [
       "<matplotlib.figure.Figure at 0x2452bbe15c0>"
      ]
     },
     "metadata": {
      "needs_background": "light"
     },
     "output_type": "display_data"
    }
   ],
   "source": [
    "plt.plot(epsilons, points2[:,0])\n",
    "plt.xlabel('$\\epsilon $')\n",
    "plt.ylabel('Converge points')\n",
    "plt.show()"
   ]
  },
  {
   "cell_type": "markdown",
   "metadata": {},
   "source": [
    "In addition to that I will update the initial values with the latest solution. There is not too much difference between $\\epsilon _n $ and $\\epsilon _{n+1} $. Therefore their solutions must be relatively close to each other. I will use the same initial value $0.1$ for the first iteration, however it will be updated for each iteration:"
   ]
  },
  {
   "cell_type": "code",
   "execution_count": 20,
   "metadata": {
    "collapsed": true,
    "scrolled": true
   },
   "outputs": [],
   "source": [
    "points3 = np.empty_like(points2)\n",
    "for i in range(len(epsilons)):\n",
    "    if i == 0:\n",
    "        points3[i] = NRmethod(saving_func, d_saving_func, x0 = 0.1, e = epsilons[i])\n",
    "    else:\n",
    "        points3[i] = NRmethod(saving_func, d_saving_func, x0 = points3[i-1,0], e = epsilons[i])"
   ]
  },
  {
   "cell_type": "markdown",
   "metadata": {},
   "source": [
    "Total number of iterations are reduced from 422 to:"
   ]
  },
  {
   "cell_type": "code",
   "execution_count": 21,
   "metadata": {},
   "outputs": [
    {
     "name": "stdout",
     "output_type": "stream",
     "text": [
      "289.0\n"
     ]
    }
   ],
   "source": [
    "print(points3[:,1].sum())"
   ]
  },
  {
   "cell_type": "markdown",
   "metadata": {},
   "source": [
    "We obtain the same solution:"
   ]
  },
  {
   "cell_type": "code",
   "execution_count": 22,
   "metadata": {},
   "outputs": [
    {
     "data": {
      "image/png": "[encoded data removed]",
      "text/plain": [
       "<matplotlib.figure.Figure at 0x2452d34a630>"
      ]
     },
     "metadata": {
      "needs_background": "light"
     },
     "output_type": "display_data"
    }
   ],
   "source": [
    "plt.plot(epsilons, points3[:,0])\n",
    "plt.xlabel('$\\epsilon $')\n",
    "plt.ylabel('Converge points')\n",
    "plt.show()"
   ]
  },
  {
   "cell_type": "markdown",
   "metadata": {},
   "source": [
    "## Question 3"
   ]
  },
  {
   "cell_type": "markdown",
   "metadata": {},
   "source": [
    "Let's define the function and derivative functions:"
   ]
  },
  {
   "cell_type": "code",
   "execution_count": 23,
   "metadata": {
    "collapsed": true
   },
   "outputs": [],
   "source": [
    "def f_with_cases(x):\n",
    "    if x >= 1:\n",
    "        return np.log(x)\n",
    "    else:\n",
    "        return 0.5 * (x ** 2 - 1)"
   ]
  },
  {
   "cell_type": "code",
   "execution_count": 24,
   "metadata": {
    "collapsed": true
   },
   "outputs": [],
   "source": [
    "def D_f_with_cases(x):\n",
    "    if x >= 1:\n",
    "        return 1/x\n",
    "    else:\n",
    "        return x"
   ]
  },
  {
   "cell_type": "markdown",
   "metadata": {},
   "source": [
    "I define the iteration function for $x_n$ and $a_n$:"
   ]
  },
  {
   "cell_type": "code",
   "execution_count": 25,
   "metadata": {
    "collapsed": true
   },
   "outputs": [],
   "source": [
    "def iteration_func(p = -1, max_iter = 30):\n",
    "    a_list = [1/(2 ** (i+1)) for i in range(max_iter) ]\n",
    "    x_list = [2]\n",
    "    for n in range(max_iter):\n",
    "        x = x_list[n] + a_list[n] * p\n",
    "        x_list.append(x)\n",
    "    return np.array(x_list), np.array(a_list)"
   ]
  },
  {
   "cell_type": "markdown",
   "metadata": {},
   "source": [
    "We have the samples for given iterations. I limited the `max_iter=30` otherwise Python rounds numbers to 1 after some iterations. We have our series:"
   ]
  },
  {
   "cell_type": "code",
   "execution_count": 26,
   "metadata": {
    "collapsed": true
   },
   "outputs": [],
   "source": [
    "x_s , a_s = iteration_func()"
   ]
  },
  {
   "cell_type": "markdown",
   "metadata": {},
   "source": [
    "#### (1) $x_n \\in (1,2]$"
   ]
  },
  {
   "cell_type": "code",
   "execution_count": 27,
   "metadata": {},
   "outputs": [
    {
     "data": {
      "text/plain": [
       "True"
      ]
     },
     "execution_count": 27,
     "metadata": {},
     "output_type": "execute_result"
    }
   ],
   "source": [
    "(2>= x_s).all() and (x_s > 1).all()"
   ]
  },
  {
   "cell_type": "markdown",
   "metadata": {},
   "source": [
    "#### (2) $x_n \\rightarrow 1$ as $n \\rightarrow \\infty$"
   ]
  },
  {
   "cell_type": "markdown",
   "metadata": {},
   "source": [
    "We can observe that $x_n \\rightarrow 1$ from the plot below:"
   ]
  },
  {
   "cell_type": "code",
   "execution_count": 28,
   "metadata": {},
   "outputs": [
    {
     "data": {
      "image/png": "[encoded data removed]",
      "text/plain": [
       "<matplotlib.figure.Figure at 0x2452d507748>"
      ]
     },
     "metadata": {
      "needs_background": "light"
     },
     "output_type": "display_data"
    }
   ],
   "source": [
    "plt.plot(x_s)\n",
    "plt.show()"
   ]
  },
  {
   "cell_type": "markdown",
   "metadata": {},
   "source": [
    "The last number in the iteration is substatially close to 1 for $n=30$:"
   ]
  },
  {
   "cell_type": "code",
   "execution_count": 29,
   "metadata": {
    "scrolled": true
   },
   "outputs": [
    {
     "name": "stdout",
     "output_type": "stream",
     "text": [
      "1.0000000009313226\n"
     ]
    }
   ],
   "source": [
    "print(x_s[-1])"
   ]
  },
  {
   "cell_type": "markdown",
   "metadata": {},
   "source": [
    "In fact if we increase `max_iter` to a sufficiently large number python rounds $x_n$ to 1 because it is very small:"
   ]
  },
  {
   "cell_type": "code",
   "execution_count": 30,
   "metadata": {},
   "outputs": [
    {
     "name": "stdout",
     "output_type": "stream",
     "text": [
      "1.0\n"
     ]
    }
   ],
   "source": [
    "print(iteration_func(max_iter = 1000)[0][-1])"
   ]
  },
  {
   "cell_type": "markdown",
   "metadata": {},
   "source": [
    "#### (3) The first Wolfe condition is satisfied for all $n$:\n",
    "\n",
    "$$\n",
    "f(x_n + a_np_n) \\leq f(x_n) + c_1a_np_n' \\bigtriangledown f(x_n)\n",
    "$$\n",
    "\n",
    "This condition forbids steps that are too long. If it is not satisfied than gradient descent will diverge or will not converge. Usually $c_1$ is choosen as a very small number, e.g. $10^{-4}$. The quantity  $a_np_n' \\bigtriangledown f(x_n)$ is the decrease in f predicted by the slope of $f$ at $x_n$ in the direction of $p_n$ which is negative. \n",
    "\n",
    "In our case Wolfe condition is satisfied for all $c_1 \\in (0,1)$. If we set a random variable for $c_1$ we have:"
   ]
  },
  {
   "cell_type": "code",
   "execution_count": 31,
   "metadata": {},
   "outputs": [
    {
     "name": "stdout",
     "output_type": "stream",
     "text": [
      "True\n"
     ]
    }
   ],
   "source": [
    "c1 = np.random.rand()\n",
    "lhs = lambda i: f_with_cases(x_s[i]-a_s[i]) #LHS of the condition\n",
    "rhs = lambda i: f_with_cases(x_s[i]) - a_s[i] * c1 * D_f_with_cases(x_s[i]) #RHS of the condition\n",
    "print(np.array([lhs(i) <= rhs(i) for i in range(30)]).all()) # Checking it if holds for all n"
   ]
  },
  {
   "cell_type": "markdown",
   "metadata": {},
   "source": [
    "Even though the first Wolfe condition is satisfied we cannot find the minimum, in fact not even a local minimum. Let's see how does this function looks like for $x\\in [-5,5]$:"
   ]
  },
  {
   "cell_type": "code",
   "execution_count": 32,
   "metadata": {},
   "outputs": [
    {
     "data": {
      "image/png": "[encoded data removed]",
      "text/plain": [
       "<matplotlib.figure.Figure at 0x2452d326a20>"
      ]
     },
     "metadata": {
      "needs_background": "light"
     },
     "output_type": "display_data"
    }
   ],
   "source": [
    "x5_5 = np.linspace(-5,5,1000) \n",
    "f5_5 = np.array([f_with_cases(i) for i in x5_5])\n",
    "# Plotting\n",
    "fig, ax = plt.subplots()\n",
    "line1, = ax.plot(x5_5, f5_5, label = ('$f(x)$'))\n",
    "line2 = ax.axvline(x=1, color='red', label='$x=1$')\n",
    "plt.legend()\n",
    "plt.show()"
   ]
  },
  {
   "cell_type": "markdown",
   "metadata": {},
   "source": [
    "Therefore second Wolfe Condition is not satisfied: \n",
    "\n",
    "$$\n",
    "p_n'\\bigtriangledown f(x_n+a_np_n)\\ge c_2 p_n'\\bigtriangledown f(x_n) \\qquad c_2 \\in (c_1,1)\n",
    "$$\n",
    "\n",
    "The second Wolfe condition ensures that our steps are not too short, but in our case our steps are too short we cannot converge to the optimum as seen in the plot above. We can easly observe that the minimum is (or around) 0 but our steps are too small that we stop at $x=1$. Let's see that these conditions are not satisfied:"
   ]
  },
  {
   "cell_type": "code",
   "execution_count": 33,
   "metadata": {
    "scrolled": true
   },
   "outputs": [
    {
     "name": "stdout",
     "output_type": "stream",
     "text": [
      "False\n"
     ]
    }
   ],
   "source": [
    "c2 = np.random.uniform(c1,1)\n",
    "lhs = lambda i: -D_f_with_cases(x_s[i]-a_s[i])\n",
    "rhs = lambda i: -c2 * D_f_with_cases(x_s[i])\n",
    "print(np.array([lhs(i) >= rhs(i) for i in range(30)]).all()) # IT does not hold for all n"
   ]
  },
  {
   "cell_type": "markdown",
   "metadata": {},
   "source": [
    "Let's try for many possible $c_2\\in(0,1)$:"
   ]
  },
  {
   "cell_type": "code",
   "execution_count": 34,
   "metadata": {
    "scrolled": true
   },
   "outputs": [
    {
     "name": "stdout",
     "output_type": "stream",
     "text": [
      "False\n"
     ]
    }
   ],
   "source": [
    "wolfe_2 = []\n",
    "for k in np.linspace(0,1,1000):\n",
    "    c2 = k\n",
    "    wolfe_2.append(np.array([lhs(i) >= rhs(i) for i in range(30)]).all()) # Check if it holds for all n given c_2\n",
    "wolfe_2 = np.array(wolfe_2)\n",
    "print(wolfe_2.any()) # Checking condition holds for any c_2"
   ]
  },
  {
   "cell_type": "markdown",
   "metadata": {},
   "source": [
    "No matter how we choose $c_2 \\in (0,1)$ the second condition does not hold. So it must be that $x_0+a_0p_0 = x_1 <1$ and therefore we can write the analical solution: $\\bigtriangledown f(x_1)=x_1$. The maximum value $x_1 = x_0 + a_0 p_0$ depends on:\n",
    "\n",
    "$$\n",
    "-\\bigtriangledown f(x_1)\\ge -c_2 \\bigtriangledown f(x_0)\\\\\n",
    "-x_1 \\ge -\\dfrac{c_2}{x_0} = -\\dfrac{c_2}{2}\n",
    "$$"
   ]
  },
  {
   "cell_type": "markdown",
   "metadata": {},
   "source": [
    "Consequently the maximum value $x_1 = x_0 + a_0p_0$ can take is $\\dfrac{c_2}{2}$. Usually the $c_2$ value is close to 1(e.g. 0.9). In order to converge, we need to set the steps ($a_n$) accordingly so the second condition holds for all $n$. \n",
    "\n",
    "*I refer to the following sources for my explanations:*\n",
    "\n",
    "- http://pages.mtu.edu/~msgocken/ma5630spring2003/lectures/lines/lines/node3.html\n",
    "- https://en.wikipedia.org/wiki/Wolfe_conditions"
   ]
  },
  {
   "cell_type": "markdown",
   "metadata": {},
   "source": [
    "## Question 4"
   ]
  },
  {
   "cell_type": "markdown",
   "metadata": {},
   "source": [
    "I define the function, derivatives, and constraints:"
   ]
  },
  {
   "cell_type": "code",
   "execution_count": 35,
   "metadata": {
    "collapsed": true
   },
   "outputs": [],
   "source": [
    "sign = -1.0 # We convert argmin problem to argmax...\n",
    "def profit(x, sign=sign):\n",
    "    return sign * ( 0.5 * (x[0] - x[1]**2) + 0.5 * (x[2] - x[3]**2))\n",
    "\n",
    "def D_profit(x, sign=sign):\n",
    "    dfdx0 = sign * 0.5\n",
    "    dfdx1 = sign * (-1) * x[1]\n",
    "    dfdx2 = sign * 0.5\n",
    "    dfdx3 = sign * (-1) * x[3]\n",
    "    return np.array([ dfdx0, dfdx1, dfdx2, dfdx3])"
   ]
  },
  {
   "cell_type": "code",
   "execution_count": 36,
   "metadata": {
    "collapsed": true
   },
   "outputs": [],
   "source": [
    "# The given parameters:\n",
    "thetaH = 2\n",
    "thetaL = 1\n",
    "uH = 0\n",
    "uL = 0\n",
    "initials = [1.0,1.0,1.0,1.0]\n",
    "\n",
    "# Constraints with their derivatives\n",
    "irc_1 = lambda x: np.array([thetaH * x[1]-x[0]-uH]) # The first individual rationality constraint\n",
    "irc_2 = lambda x: np.array([thetaL * x[3]-x[2]-uL]) # The second individual rationality constraint\n",
    "icc_1 = lambda x: np.array([thetaH * x[1]-x[0]-thetaH * x[3]+x[2]]) # The first incentive compatibility constraint\n",
    "icc_2 = lambda x: np.array([thetaL * x[3]-x[2]-thetaL * x[1]+x[0]]) # The second incentive compatibility constraint\n",
    "\n",
    "cons = ({'type': 'ineq',\n",
    "         'fun' : irc_1,\n",
    "         'jac' : lambda x: np.array([-1, thetaH, 0 , 0])},\n",
    "        {'type': 'ineq',\n",
    "         'fun' : irc_2,\n",
    "         'jac' : lambda x: np.array([0,0,-1,thetaL])},\n",
    "        {'type': 'ineq',\n",
    "         'fun' : icc_1, \n",
    "         'jac' : lambda x: np.array([-1,thetaH,1,-thetaH])},\n",
    "        {'type': 'ineq',\n",
    "         'fun' : icc_2, \n",
    "         'jac' : lambda x: np.array([1, -thetaL, -1, thetaL ])})\n",
    "\n",
    "# I am going to set the boundries for prices and quantities as 'non-negative'\n",
    "   # Using 'None' for upper bounds sometimes give error messages.\n",
    "   # Therefore I am using sufficiently high value for bounds: 1e6\n",
    "\n",
    "bnds = ((0, 1e6), (0, 1e6),(0, 1e6),(0, 1e6))"
   ]
  },
  {
   "cell_type": "code",
   "execution_count": 37,
   "metadata": {},
   "outputs": [
    {
     "name": "stdout",
     "output_type": "stream",
     "text": [
      "Optimization terminated successfully.    (Exit mode 0)\n",
      "            Current function value: -0.4999997100186543\n",
      "            Iterations: 6\n",
      "            Function evaluations: 6\n",
      "            Gradient evaluations: 6\n",
      "-----\n",
      "     fun: -0.4999997100186543\n",
      "     jac: array([-0.5       ,  0.99923845, -0.5       ,  0.        ])\n",
      " message: 'Optimization terminated successfully.'\n",
      "    nfev: 6\n",
      "     nit: 6\n",
      "    njev: 6\n",
      "  status: 0\n",
      " success: True\n",
      "       x: array([1.99847689, 0.99923845, 0.        , 0.        ])\n"
     ]
    }
   ],
   "source": [
    "res1 = optimize.minimize(profit, x0=initials, \n",
    "                        jac=D_profit, \n",
    "                        method='SLSQP', \n",
    "                        constraints = cons,\n",
    "                        bounds = bnds,\n",
    "                        options={'disp': True})\n",
    "\n",
    "print('-----')\n",
    "print(res1)"
   ]
  },
  {
   "cell_type": "markdown",
   "metadata": {},
   "source": [
    "So the solution ($p_H^*,q_H^*,p_L^*, q_L^*$)is:"
   ]
  },
  {
   "cell_type": "code",
   "execution_count": 38,
   "metadata": {},
   "outputs": [
    {
     "name": "stdout",
     "output_type": "stream",
     "text": [
      "[1.99847689 0.99923845 0.         0.        ]\n"
     ]
    }
   ],
   "source": [
    "print(res1.x)"
   ]
  },
  {
   "cell_type": "markdown",
   "metadata": {},
   "source": [
    "Therefore we have a *seperating* solution. Note that solition does not converge perfectly."
   ]
  },
  {
   "cell_type": "markdown",
   "metadata": {},
   "source": [
    "Let's see which constraints are binding. I define a function to observe the constraints. Instead of checking if constraint are equal to 0, I check if they are less than a arbirarly small number, `tol`. Because solutions do not converge perfectly as seen above."
   ]
  },
  {
   "cell_type": "code",
   "execution_count": 39,
   "metadata": {
    "collapsed": true
   },
   "outputs": [],
   "source": [
    "def constraint_check(x, tol = 1e-6):\n",
    "    print('The first individual rationality constraint is', end=' ')\n",
    "    if irc_1(x) < tol:\n",
    "        print('binding.')\n",
    "    else:\n",
    "        print('NOT binding.')\n",
    "    print('The second individual rationality constraint is', end=' ')\n",
    "    if irc_2(x) < tol:\n",
    "        print('binding.')\n",
    "    else:\n",
    "        print('NOT binding.')\n",
    "    print('The first incentive compatibility constraint is', end=' ')\n",
    "    if icc_1(x)< tol:\n",
    "        print('binding.')\n",
    "    else:\n",
    "        print('NOT binding.')\n",
    "    print('The second incentive compatibility constraint is', end=' ')\n",
    "    if icc_2(x) < tol:\n",
    "        print('binding.')\n",
    "    else:\n",
    "        print('NOT binding.')"
   ]
  },
  {
   "cell_type": "code",
   "execution_count": 40,
   "metadata": {},
   "outputs": [
    {
     "name": "stdout",
     "output_type": "stream",
     "text": [
      "The first individual rationality constraint is binding.\n",
      "The second individual rationality constraint is binding.\n",
      "The first incentive compatibility constraint is binding.\n",
      "The second incentive compatibility constraint is NOT binding.\n"
     ]
    }
   ],
   "source": [
    "constraint_check(res1.x)"
   ]
  },
  {
   "cell_type": "markdown",
   "metadata": {},
   "source": [
    "Let's change the $\\theta _H$ as follows:"
   ]
  },
  {
   "cell_type": "code",
   "execution_count": 41,
   "metadata": {},
   "outputs": [
    {
     "name": "stdout",
     "output_type": "stream",
     "text": [
      "Optimization terminated successfully.    (Exit mode 0)\n",
      "            Current function value: -0.3124999908608319\n",
      "            Iterations: 5\n",
      "            Function evaluations: 5\n",
      "            Gradient evaluations: 5\n",
      "-----\n",
      "     fun: -0.3124999908608319\n",
      "     jac: array([-0.5       ,  0.74993139, -0.5       ,  0.2498835 ])\n",
      " message: 'Optimization terminated successfully.'\n",
      "    nfev: 5\n",
      "     nit: 5\n",
      "    njev: 5\n",
      "  status: 0\n",
      " success: True\n",
      "       x: array([0.99995533, 0.74993139, 0.2498835 , 0.2498835 ])\n"
     ]
    }
   ],
   "source": [
    "thetaH = 1.5\n",
    "res2 = optimize.minimize(profit, x0=initials, \n",
    "                        jac=D_profit, \n",
    "                        method='SLSQP', \n",
    "                        constraints = cons,\n",
    "                        bounds = bnds,\n",
    "                        options={'disp': True})\n",
    "\n",
    "print('-----')\n",
    "print(res2)"
   ]
  },
  {
   "cell_type": "markdown",
   "metadata": {},
   "source": [
    "Solution ($p_H^*,q_H^*,p_L^*, q_L^*$) is again *seperating*. When we decreased the $\\theta _H$ firm starts to produce lower quality products and decrease both quantity and price of higher quality products. Constraints are:"
   ]
  },
  {
   "cell_type": "code",
   "execution_count": 42,
   "metadata": {},
   "outputs": [
    {
     "name": "stdout",
     "output_type": "stream",
     "text": [
      "The first individual rationality constraint is NOT binding.\n",
      "The second individual rationality constraint is binding.\n",
      "The first incentive compatibility constraint is binding.\n",
      "The second incentive compatibility constraint is NOT binding.\n"
     ]
    }
   ],
   "source": [
    "constraint_check(res2.x)"
   ]
  },
  {
   "cell_type": "markdown",
   "metadata": {},
   "source": [
    "Let's change $\\theta _H$ as follows:"
   ]
  },
  {
   "cell_type": "code",
   "execution_count": 43,
   "metadata": {},
   "outputs": [
    {
     "name": "stdout",
     "output_type": "stream",
     "text": [
      "Optimization terminated successfully.    (Exit mode 0)\n",
      "            Current function value: -1.1249999999999991\n",
      "            Iterations: 6\n",
      "            Function evaluations: 6\n",
      "            Gradient evaluations: 6\n",
      "-----\n",
      "     fun: -1.1249999999999991\n",
      "     jac: array([-5.00000000e-01,  1.50000000e+00, -5.00000000e-01,  7.07767178e-16])\n",
      " message: 'Optimization terminated successfully.'\n",
      "    nfev: 6\n",
      "     nit: 6\n",
      "    njev: 6\n",
      "  status: 0\n",
      " success: True\n",
      "       x: array([4.50000000e+00, 1.50000000e+00, 4.04295073e-16, 7.07767178e-16])\n"
     ]
    }
   ],
   "source": [
    "thetaH = 3\n",
    "res3 = optimize.minimize(profit, x0=initials, \n",
    "                        jac=D_profit, \n",
    "                        method='SLSQP', \n",
    "                        constraints = cons,\n",
    "                        bounds = bnds,\n",
    "                        options={'disp': True})\n",
    "\n",
    "print('-----')\n",
    "print(res3)"
   ]
  },
  {
   "cell_type": "markdown",
   "metadata": {},
   "source": [
    "Solution ($p_H^*,q_H^*,p_L^*, q_L^*$) is again *seperating*. Instead when we increase the $\\theta _H $ the firm does not produce lower quality products and increases the both quantity and price of high quality. Constraints are:"
   ]
  },
  {
   "cell_type": "code",
   "execution_count": 44,
   "metadata": {},
   "outputs": [
    {
     "name": "stdout",
     "output_type": "stream",
     "text": [
      "The first individual rationality constraint is binding.\n",
      "The second individual rationality constraint is binding.\n",
      "The first incentive compatibility constraint is binding.\n",
      "The second incentive compatibility constraint is NOT binding.\n"
     ]
    }
   ],
   "source": [
    "constraint_check(res3.x)"
   ]
  },
  {
   "cell_type": "markdown",
   "metadata": {},
   "source": [
    "Let's make $U_H=0.5$:"
   ]
  },
  {
   "cell_type": "code",
   "execution_count": 45,
   "metadata": {},
   "outputs": [
    {
     "name": "stdout",
     "output_type": "stream",
     "text": [
      "Optimization terminated successfully.    (Exit mode 0)\n",
      "            Current function value: -0.3749996172264677\n",
      "            Iterations: 7\n",
      "            Function evaluations: 7\n",
      "            Gradient evaluations: 7\n",
      "-----\n",
      "     fun: -0.3749996172264677\n",
      "     jac: array([-0.5       ,  1.00075187, -0.5       ,  0.49955252])\n",
      " message: 'Optimization terminated successfully.'\n",
      "    nfev: 7\n",
      "     nit: 7\n",
      "    njev: 7\n",
      "  status: 0\n",
      " success: True\n",
      "       x: array([1.50150374, 1.00075187, 0.49955252, 0.49955252])\n"
     ]
    }
   ],
   "source": [
    "thetaH = 2 # Back to the default value\n",
    "uH = 0.5\n",
    "res4 = optimize.minimize(profit, x0=initials, \n",
    "                        jac=D_profit, \n",
    "                        method='SLSQP', \n",
    "                        constraints = cons,\n",
    "                        bounds = bnds,\n",
    "                        options={'disp': True})\n",
    "\n",
    "print('-----')\n",
    "print(res4)"
   ]
  },
  {
   "cell_type": "markdown",
   "metadata": {},
   "source": [
    "Solution ($p_H^*,q_H^*,p_L^*, q_L^*$) is again *seperating*. It is again very intutitive. Because when we set $U_H$ greater than 0, then means customers with high quality preference has (in a way) alternatives. Therefore firm decreases the high quality products' price, and starts producing low quality goods. Constraints are:"
   ]
  },
  {
   "cell_type": "code",
   "execution_count": 46,
   "metadata": {},
   "outputs": [
    {
     "name": "stdout",
     "output_type": "stream",
     "text": [
      "The first individual rationality constraint is binding.\n",
      "The second individual rationality constraint is binding.\n",
      "The first incentive compatibility constraint is NOT binding.\n",
      "The second incentive compatibility constraint is NOT binding.\n"
     ]
    }
   ],
   "source": [
    "constraint_check(res4.x)"
   ]
  },
  {
   "cell_type": "markdown",
   "metadata": {},
   "source": [
    "Let's increase the gap more:"
   ]
  },
  {
   "cell_type": "code",
   "execution_count": 47,
   "metadata": {},
   "outputs": [
    {
     "name": "stdout",
     "output_type": "stream",
     "text": [
      "Optimization terminated successfully.    (Exit mode 0)\n",
      "            Current function value: -0.12500000000000017\n",
      "            Iterations: 3\n",
      "            Function evaluations: 3\n",
      "            Gradient evaluations: 3\n",
      "-----\n",
      "     fun: -0.12500000000000017\n",
      "     jac: array([-0.5,  1. , -0.5,  0.5])\n",
      " message: 'Optimization terminated successfully.'\n",
      "    nfev: 3\n",
      "     nit: 3\n",
      "    njev: 3\n",
      "  status: 0\n",
      " success: True\n",
      "       x: array([1. , 1. , 0.5, 0.5])\n"
     ]
    }
   ],
   "source": [
    "uH = 1\n",
    "res5 = optimize.minimize(profit, x0=initials, \n",
    "                        jac=D_profit, \n",
    "                        method='SLSQP', \n",
    "                        constraints = cons,\n",
    "                        bounds = bnds,\n",
    "                        options={'disp': True})\n",
    "\n",
    "print('-----')\n",
    "print(res5)"
   ]
  },
  {
   "cell_type": "markdown",
   "metadata": {},
   "source": [
    "Solution ($p_H^*,q_H^*,p_L^*, q_L^*$) is again *seperating*. With further gap, company decreases the prices even more. Constraints are:"
   ]
  },
  {
   "cell_type": "code",
   "execution_count": 48,
   "metadata": {},
   "outputs": [
    {
     "name": "stdout",
     "output_type": "stream",
     "text": [
      "The first individual rationality constraint is binding.\n",
      "The second individual rationality constraint is binding.\n",
      "The first incentive compatibility constraint is NOT binding.\n",
      "The second incentive compatibility constraint is binding.\n"
     ]
    }
   ],
   "source": [
    "constraint_check(res5.x)"
   ]
  }
 ],
 "metadata": {
  "kernelspec": {
   "display_name": "Python 3",
   "language": "python",
   "name": "python3"
  },
  "language_info": {
   "codemirror_mode": {
    "name": "ipython",
    "version": 3
   },
   "file_extension": ".py",
   "mimetype": "text/x-python",
   "name": "python",
   "nbconvert_exporter": "python",
   "pygments_lexer": "ipython3",
   "version": "3.6.4"
  }
 },
 "nbformat": 4,
 "nbformat_minor": 2
}
