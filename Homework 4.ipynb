{
 "cells": [
  {
   "cell_type": "markdown",
   "metadata": {},
   "source": [
    "# Homework 4\n",
    "\n",
    "Name: Ali Furkan Kalay\n",
    "\n",
    "ID: 45625365"
   ]
  },
  {
   "cell_type": "code",
   "execution_count": 1,
   "metadata": {
    "collapsed": true
   },
   "outputs": [],
   "source": [
    "import numpy as np\n",
    "import pandas as pd\n",
    "import matplotlib.pyplot as plt\n",
    "from scipy import integrate\n",
    "from scipy.stats import norm,invgamma"
   ]
  },
  {
   "cell_type": "markdown",
   "metadata": {},
   "source": [
    "## Question 1"
   ]
  },
  {
   "cell_type": "code",
   "execution_count": 2,
   "metadata": {
    "collapsed": true
   },
   "outputs": [],
   "source": [
    "def weight_root(func=np.polynomial.legendre.leggauss, up = 11):\n",
    "    x_GL = []\n",
    "    w_GL = []\n",
    "    for i in range(2,up):\n",
    "        x,w = func(i)\n",
    "        x_GL += [x]\n",
    "        w_GL += [w]\n",
    "    return x_GL, w_GL"
   ]
  },
  {
   "cell_type": "code",
   "execution_count": 3,
   "metadata": {
    "collapsed": true
   },
   "outputs": [],
   "source": [
    "f1 = lambda x: x ** 0.25\n",
    "a1,b1 = 0.,1.\n",
    "f1_cv = lambda x: f1(a1+(b1-a1)*(x+1.)/2)"
   ]
  },
  {
   "cell_type": "code",
   "execution_count": 4,
   "metadata": {
    "collapsed": true
   },
   "outputs": [],
   "source": [
    "f2 = lambda x: x ** (-2)\n",
    "a2,b2 = 1.,10.\n",
    "f2_cv = lambda x: f2(a2+(b2-a2)*(x+1.)/2)"
   ]
  },
  {
   "cell_type": "code",
   "execution_count": 5,
   "metadata": {
    "collapsed": true
   },
   "outputs": [],
   "source": [
    "f3 = lambda x: np.e ** x\n",
    "a3,b3 = 0.,1.\n",
    "f3_cv = lambda x: f3(a3+(b3-a3)*(x+1.)/2)"
   ]
  },
  {
   "cell_type": "code",
   "execution_count": 6,
   "metadata": {
    "collapsed": true
   },
   "outputs": [],
   "source": [
    "f4 = lambda x: np.max([0, x+0.05])\n",
    "a4,b4 = -1., 1.\n",
    "f4_cv = lambda x: f4(a4+(b4-a4)*(x+1.)/2)"
   ]
  },
  {
   "cell_type": "code",
   "execution_count": 7,
   "metadata": {
    "collapsed": true
   },
   "outputs": [],
   "source": [
    "def gauss_legendre(func, interval_lenght):\n",
    "    nodes_vec = [4,7,10,13]\n",
    "    x_GL, w_GL = weight_root(up=16)\n",
    "    I1_GL = np.zeros(len(nodes_vec))\n",
    "    for i,n in enumerate(nodes_vec):\n",
    "        roots = np.array(x_GL[n-2])\n",
    "        I1_GL[i] = (interval_lenght)/2*(np.array([func(i) for i in roots])@w_GL[n-2])\n",
    "        # I replaced `func(roots)` with `np.array([func(i) for i in roots])`\n",
    "        # Because 4th function causes error\n",
    "        print((n, round(I1_GL[i], 4)))"
   ]
  },
  {
   "cell_type": "code",
   "execution_count": 8,
   "metadata": {
    "scrolled": true
   },
   "outputs": [
    {
     "name": "stdout",
     "output_type": "stream",
     "text": [
      "(4, 0.8023)\n",
      "(7, 0.8006)\n",
      "(10, 0.8003)\n",
      "(13, 0.8001)\n"
     ]
    }
   ],
   "source": [
    "gauss_legendre(f1_cv, b1-a1)"
   ]
  },
  {
   "cell_type": "code",
   "execution_count": 9,
   "metadata": {
    "scrolled": true
   },
   "outputs": [
    {
     "name": "stdout",
     "output_type": "stream",
     "text": [
      "(4, 0.8563)\n",
      "(7, 0.8985)\n",
      "(10, 0.9)\n",
      "(13, 0.9)\n"
     ]
    }
   ],
   "source": [
    "gauss_legendre(f2_cv, b2-a2)"
   ]
  },
  {
   "cell_type": "code",
   "execution_count": 10,
   "metadata": {},
   "outputs": [
    {
     "name": "stdout",
     "output_type": "stream",
     "text": [
      "(4, 1.7183)\n",
      "(7, 1.7183)\n",
      "(10, 1.7183)\n",
      "(13, 1.7183)\n"
     ]
    }
   ],
   "source": [
    "gauss_legendre(f3_cv, b3-a3)"
   ]
  },
  {
   "cell_type": "code",
   "execution_count": 11,
   "metadata": {},
   "outputs": [
    {
     "name": "stdout",
     "output_type": "stream",
     "text": [
      "(4, 0.5713)\n",
      "(7, 0.5457)\n",
      "(10, 0.5538)\n",
      "(13, 0.5513)\n"
     ]
    }
   ],
   "source": [
    "gauss_legendre(f4_cv, b4-a4)"
   ]
  },
  {
   "cell_type": "markdown",
   "metadata": {},
   "source": [
    "## Question 2"
   ]
  },
  {
   "cell_type": "markdown",
   "metadata": {},
   "source": [
    "I am using the formulation given here: http://www.wouterdenhaan.com/numerical/integrationslides.pdf"
   ]
  },
  {
   "cell_type": "markdown",
   "metadata": {},
   "source": [
    "The weighting function for the Gauss-Hermite quadrature is $e^{-x^2}$ on $(-\\infty,\\infty)$. \n",
    "\n",
    "$$E[f(x)] = \\int_{-\\infty}^\\infty f(x)e^{-x^2}dx \\approx \\sum_{i=1}^\\infty \\omega_i f(x_i).$$\n",
    "\n",
    "We cannot directly apply Gauss-Hermite to Normal distribution, mainly because we have different weighting functions, $e^{-\\frac{(x-\\mu)^2}{2\\sigma^2}}$ instead of $e^{-x^2}$:\n",
    "\n",
    "$$E[h(x)] = \\int_{-\\infty}^\\infty \\frac{1}{\\sqrt{2\\pi\\sigma^2}} h(x) e^{-\\frac{(x-\\mu)^2}{2\\sigma^2}}dx. $$\n",
    "\n",
    "where we will replaced $h(x)$ with $x, (x-u)^2, (\\frac{x-u}{\\sigma }) ^3,$ and $ (\\frac{x-u}{\\sigma }) ^4$ respectively for mean, variance, skewness and kurtosis integration. In order to apply Gauss-Hermite quadrature we have to manipulate this integration that has the same weighting function. So we replace $x$ with $x' = \\frac{(x-\\mu)}{\\sqrt{2} \\sigma}$ and integration becomes:\n",
    "\n",
    "\\begin{align*}\n",
    "E[h(x)] &= \\int_{-\\infty}^\\infty \\frac{1}{\\sqrt{\\pi }} h(2\\sigma x' + \\mu) e^{-x^{'2}}dx'  \\\\\n",
    "&\\approx \\sum _{i=1} ^n \\frac{1}{\\sqrt{\\pi }} w_i h(2\\sigma x_i + \\mu)\n",
    "\\end{align*}\n",
    "\n",
    "where $w_i$ is Gauss-Hermite sample weights and $x_i$ Gauss-Hermite sample points.\n",
    "\n",
    "Suppose we have the mean and standard deviation:"
   ]
  },
  {
   "cell_type": "code",
   "execution_count": 12,
   "metadata": {
    "collapsed": true
   },
   "outputs": [],
   "source": [
    "mmu = 1.0\n",
    "ssig = 2.0 "
   ]
  },
  {
   "cell_type": "markdown",
   "metadata": {},
   "source": [
    "So integration of:\n",
    "\n",
    "- Mean: 1\n",
    "- Variance: 4\n",
    "- Skewness: 0\n",
    "- Kurtosis: 3\n",
    "\n",
    "Our parameterization only changes Mean and Variance the others are standard values for any mean and variance. \n",
    "\n",
    "Let's implement approximation formula above:"
   ]
  },
  {
   "cell_type": "code",
   "execution_count": 13,
   "metadata": {
    "collapsed": true
   },
   "outputs": [],
   "source": [
    "def gauss_hermite(func, muu = mmu, ssig = ssig):\n",
    "    x_GL, w_GL = weight_root(np.polynomial.hermite.hermgauss, up=16)\n",
    "    nodes_vec = [3, 5, 10, 15]\n",
    "    I1_GL = np.zeros(len(nodes_vec))\n",
    "    for i,n in enumerate(nodes_vec):\n",
    "        roots = np.array(x_GL[n-2])\n",
    "        I1_GL[i] = func(np.sqrt(2)*ssig* roots + mmu)@w_GL[n-2] / np.sqrt(np.pi)\n",
    "        print((n, round(I1_GL[i], 10)))"
   ]
  },
  {
   "cell_type": "markdown",
   "metadata": {},
   "source": [
    "$h(x)$ functions:"
   ]
  },
  {
   "cell_type": "code",
   "execution_count": 14,
   "metadata": {
    "collapsed": true
   },
   "outputs": [],
   "source": [
    "mean = lambda x: x\n",
    "variance = lambda x: (x-mmu)**2\n",
    "skewness = lambda x: ((x-mmu)/ssig)**3\n",
    "kurtosis = lambda x: ((x-mmu)/ssig)**4"
   ]
  },
  {
   "cell_type": "code",
   "execution_count": 15,
   "metadata": {
    "scrolled": true
   },
   "outputs": [
    {
     "name": "stdout",
     "output_type": "stream",
     "text": [
      "(3, 1.0)\n",
      "(5, 1.0)\n",
      "(10, 1.0)\n",
      "(15, 1.0)\n"
     ]
    }
   ],
   "source": [
    "gauss_hermite(mean)"
   ]
  },
  {
   "cell_type": "code",
   "execution_count": 16,
   "metadata": {},
   "outputs": [
    {
     "name": "stdout",
     "output_type": "stream",
     "text": [
      "(3, 4.0)\n",
      "(5, 4.0)\n",
      "(10, 4.0)\n",
      "(15, 4.0)\n"
     ]
    }
   ],
   "source": [
    "gauss_hermite(variance)"
   ]
  },
  {
   "cell_type": "code",
   "execution_count": 17,
   "metadata": {},
   "outputs": [
    {
     "name": "stdout",
     "output_type": "stream",
     "text": [
      "(3, 0.0)\n",
      "(5, 0.0)\n",
      "(10, -0.0)\n",
      "(15, 0.0)\n"
     ]
    }
   ],
   "source": [
    "gauss_hermite(skewness)"
   ]
  },
  {
   "cell_type": "code",
   "execution_count": 18,
   "metadata": {},
   "outputs": [
    {
     "name": "stdout",
     "output_type": "stream",
     "text": [
      "(3, 3.0)\n",
      "(5, 3.0)\n",
      "(10, 3.0)\n",
      "(15, 3.0)\n"
     ]
    }
   ],
   "source": [
    "gauss_hermite(kurtosis)"
   ]
  },
  {
   "cell_type": "markdown",
   "metadata": {},
   "source": [
    "## Question 3"
   ]
  },
  {
   "cell_type": "markdown",
   "metadata": {},
   "source": [
    "Function to be integrated:"
   ]
  },
  {
   "cell_type": "code",
   "execution_count": 19,
   "metadata": {
    "collapsed": true
   },
   "outputs": [],
   "source": [
    "f = np.vectorize(lambda x: x ** (0.25))"
   ]
  },
  {
   "cell_type": "markdown",
   "metadata": {},
   "source": [
    "1000 Manto Carlo simulation function:"
   ]
  },
  {
   "cell_type": "code",
   "execution_count": 20,
   "metadata": {
    "collapsed": true
   },
   "outputs": [],
   "source": [
    "def monte_carlo_integration(func, N, K=1000, seed = 123):\n",
    "    np.random.seed(seed)\n",
    "    integrations = []\n",
    "    for i in range(K):\n",
    "        # One simulation..Random N sampling from Uniform distribution U[0,1]\n",
    "        integrations.append(func(np.random.rand(N)).mean()) \n",
    "    return np.array(integrations)"
   ]
  },
  {
   "cell_type": "code",
   "execution_count": 21,
   "metadata": {
    "collapsed": true,
    "scrolled": true
   },
   "outputs": [],
   "source": [
    "simulations = pd.DataFrame()\n",
    "simulations['N = 10'] = monte_carlo_integration(f, 10)\n",
    "simulations['N = 100'] = monte_carlo_integration(f, 100)\n",
    "simulations['N = 1000'] = monte_carlo_integration(f, 1000)"
   ]
  },
  {
   "cell_type": "markdown",
   "metadata": {},
   "source": [
    "As seen in the plot below, when we set sample size small, variance of integration values is high. "
   ]
  },
  {
   "cell_type": "code",
   "execution_count": 22,
   "metadata": {
    "scrolled": true
   },
   "outputs": [
    {
     "data": {
      "image/png": "[encoded data removed]",
      "text/plain": [
       "<matplotlib.figure.Figure at 0x219f6d41048>"
      ]
     },
     "metadata": {
      "needs_background": "light"
     },
     "output_type": "display_data"
    }
   ],
   "source": [
    "simulations.plot(kind='density', figsize = (8,5))\n",
    "plt.show()"
   ]
  },
  {
   "cell_type": "markdown",
   "metadata": {},
   "source": [
    "The standard deviations are 0.052, 0.016, and 0.005 respectively for sample size 10, 100, 1000. Obviously range also decreases with sample size. "
   ]
  },
  {
   "cell_type": "code",
   "execution_count": 23,
   "metadata": {
    "scrolled": true
   },
   "outputs": [
    {
     "data": {
      "text/html": [
       "<div>\n",
       "<style scoped>\n",
       "    .dataframe tbody tr th:only-of-type {\n",
       "        vertical-align: middle;\n",
       "    }\n",
       "\n",
       "    .dataframe tbody tr th {\n",
       "        vertical-align: top;\n",
       "    }\n",
       "\n",
       "    .dataframe thead th {\n",
       "        text-align: right;\n",
       "    }\n",
       "</style>\n",
       "<table border=\"1\" class=\"dataframe\">\n",
       "  <thead>\n",
       "    <tr style=\"text-align: right;\">\n",
       "      <th></th>\n",
       "      <th>N = 10</th>\n",
       "      <th>N = 100</th>\n",
       "      <th>N = 1000</th>\n",
       "    </tr>\n",
       "  </thead>\n",
       "  <tbody>\n",
       "    <tr>\n",
       "      <th>count</th>\n",
       "      <td>1000.000000</td>\n",
       "      <td>1000.000000</td>\n",
       "      <td>1000.000000</td>\n",
       "    </tr>\n",
       "    <tr>\n",
       "      <th>mean</th>\n",
       "      <td>0.798951</td>\n",
       "      <td>0.800383</td>\n",
       "      <td>0.800080</td>\n",
       "    </tr>\n",
       "    <tr>\n",
       "      <th>std</th>\n",
       "      <td>0.051897</td>\n",
       "      <td>0.016321</td>\n",
       "      <td>0.005135</td>\n",
       "    </tr>\n",
       "    <tr>\n",
       "      <th>min</th>\n",
       "      <td>0.619236</td>\n",
       "      <td>0.747982</td>\n",
       "      <td>0.785452</td>\n",
       "    </tr>\n",
       "    <tr>\n",
       "      <th>25%</th>\n",
       "      <td>0.765992</td>\n",
       "      <td>0.789605</td>\n",
       "      <td>0.796569</td>\n",
       "    </tr>\n",
       "    <tr>\n",
       "      <th>50%</th>\n",
       "      <td>0.801828</td>\n",
       "      <td>0.800733</td>\n",
       "      <td>0.800101</td>\n",
       "    </tr>\n",
       "    <tr>\n",
       "      <th>75%</th>\n",
       "      <td>0.837447</td>\n",
       "      <td>0.811632</td>\n",
       "      <td>0.803601</td>\n",
       "    </tr>\n",
       "    <tr>\n",
       "      <th>max</th>\n",
       "      <td>0.928351</td>\n",
       "      <td>0.849232</td>\n",
       "      <td>0.815575</td>\n",
       "    </tr>\n",
       "  </tbody>\n",
       "</table>\n",
       "</div>"
      ],
      "text/plain": [
       "            N = 10      N = 100     N = 1000\n",
       "count  1000.000000  1000.000000  1000.000000\n",
       "mean      0.798951     0.800383     0.800080\n",
       "std       0.051897     0.016321     0.005135\n",
       "min       0.619236     0.747982     0.785452\n",
       "25%       0.765992     0.789605     0.796569\n",
       "50%       0.801828     0.800733     0.800101\n",
       "75%       0.837447     0.811632     0.803601\n",
       "max       0.928351     0.849232     0.815575"
      ]
     },
     "execution_count": 23,
     "metadata": {},
     "output_type": "execute_result"
    }
   ],
   "source": [
    "simulations.describe()"
   ]
  },
  {
   "cell_type": "markdown",
   "metadata": {},
   "source": [
    "## Question 4"
   ]
  },
  {
   "cell_type": "markdown",
   "metadata": {},
   "source": [
    "I modify the codes used in the lectures. We know the mean of the distribution but do not know the sigma. "
   ]
  },
  {
   "cell_type": "code",
   "execution_count": 24,
   "metadata": {
    "collapsed": true
   },
   "outputs": [],
   "source": [
    "np.random.seed(123)\n",
    "\n",
    "# Suppose true sigma is:\n",
    "sigma_true = 4\n",
    "\n",
    "# Our prior belief of inverse gamma distribution parameters:\n",
    "# inverted gamma with degrees of freedom `alpha` and scale `beta`\n",
    "alpha, beta = 7.,1. \n",
    "\n",
    "# Know mean value:\n",
    "mu_known = 5.0\n",
    "data = sigma_true * np.random.randn(20) + mu_known # data\n",
    "\n",
    "# Propose width:\n",
    "propose_sigma_mc = 2\n",
    "\n",
    "# initial guess\n",
    "sigma_current = 6. \n",
    "\n",
    "samples = 15000\n",
    "\n",
    "posterior = [sigma_current]\n",
    "for i in range(samples):\n",
    "    # Since sigma > 0, I will take absolute value of sigma proposal,\n",
    "    sigma_proposal = np.absolute(norm(loc=sigma_current, scale=propose_sigma_mc).rvs()) \n",
    "    \n",
    "    # We know the Mean and we calculate the current and proposal Sigmas:\n",
    "    likelihood_current = norm(mu_known, sigma_current).pdf(data).prod() \n",
    "    likelihood_proposal = norm(mu_known, sigma_proposal).pdf(data).prod()\n",
    "    \n",
    "    # Compute prior probability of current and proposed mu \n",
    "    prior_current = invgamma(alpha, beta).pdf(sigma_current)\n",
    "    prior_proposal = invgamma(alpha, beta).pdf(sigma_proposal)\n",
    "    \n",
    "    # Numerator of Bayes formula\n",
    "    p_current = likelihood_current * prior_current\n",
    "    p_proposal = likelihood_proposal * prior_proposal\n",
    "\n",
    "    p_accept = p_proposal / p_current\n",
    "\n",
    "    accept = np.random.rand() < p_accept\n",
    "\n",
    "    if accept:\n",
    "        sigma_current = sigma_proposal\n",
    "\n",
    "    posterior.append(sigma_current) "
   ]
  },
  {
   "cell_type": "markdown",
   "metadata": {},
   "source": [
    "I tried to keep sigma_proposal to be positive with given scale and width parameters. I think with current adjustment using absolute value does not disturb the sigma proposal distribution. It can be a problem with different parameterization. \n",
    "\n",
    "- The inverse Gamma distribution: $IG(7,1)$\n",
    "- True mean: 5 (Known)\n",
    "- True Sigma: 4 (Unknown)\n",
    "- Proposed width SD: 2"
   ]
  },
  {
   "cell_type": "code",
   "execution_count": 25,
   "metadata": {},
   "outputs": [
    {
     "data": {
      "image/png": "[encoded data removed]",
      "text/plain": [
       "<matplotlib.figure.Figure at 0x219f9ec1ef0>"
      ]
     },
     "metadata": {
      "needs_background": "light"
     },
     "output_type": "display_data"
    }
   ],
   "source": [
    "plt.figure(figsize=(8,5))\n",
    "plt.plot(posterior[-1000:], label='Trace')\n",
    "plt.axhline(y=np.mean(posterior), color = 'red') # Posterior sigma mean\n",
    "plt.axhline(y=sigma_true, color = 'black') # True Sigma\n",
    "plt.show()"
   ]
  },
  {
   "cell_type": "markdown",
   "metadata": {},
   "source": [
    "The proposed sigma mean is greater than true value of sigma. "
   ]
  },
  {
   "cell_type": "code",
   "execution_count": 26,
   "metadata": {
    "scrolled": true
   },
   "outputs": [
    {
     "data": {
      "image/png": "[encoded data removed]",
      "text/plain": [
       "<matplotlib.figure.Figure at 0x219fd70cd68>"
      ]
     },
     "metadata": {
      "needs_background": "light"
     },
     "output_type": "display_data"
    }
   ],
   "source": [
    "plt.figure(figsize=(8,5))\n",
    "plt.hist(posterior[500:],100)\n",
    "plt.show()"
   ]
  },
  {
   "cell_type": "markdown",
   "metadata": {},
   "source": [
    "The distribution of sigma is slightly right-skewed. "
   ]
  }
 ],
 "metadata": {
  "kernelspec": {
   "display_name": "Python 3",
   "language": "python",
   "name": "python3"
  },
  "language_info": {
   "codemirror_mode": {
    "name": "ipython",
    "version": 3
   },
   "file_extension": ".py",
   "mimetype": "text/x-python",
   "name": "python",
   "nbconvert_exporter": "python",
   "pygments_lexer": "ipython3",
   "version": "3.6.4"
  }
 },
 "nbformat": 4,
 "nbformat_minor": 2
}
