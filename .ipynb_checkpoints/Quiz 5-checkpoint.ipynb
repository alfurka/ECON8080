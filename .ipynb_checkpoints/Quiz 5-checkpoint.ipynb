{
 "cells": [
  {
   "cell_type": "code",
   "execution_count": 3,
   "metadata": {
    "collapsed": true
   },
   "outputs": [],
   "source": [
    "import numpy as np"
   ]
  },
  {
   "cell_type": "markdown",
   "metadata": {},
   "source": [
    "## Question 3\n",
    "\n",
    "Numpy has some routines that compute the roots and the weights for the quadratures we studied in the lecture. _numpy.polynomial.legendre.leggauss_ for the Gauss-Legendre quadrature, _numpy.polynomial.hermite.hermgauss_ for the Gauss-Hermite quadrature, and _numpy.polynomial.laguerre.laggauss_ for the Gauss-Laguerre quadrature. Using these functions, for each of these three kinds of quadratures, create a list that stores the roots and a list that stores the weights, for n=2 to n=10. [Hint: the following cell computes the lists for the Gauss-Legendre quadratures. You may try modifying it.]\n",
    "\n",
    "[https://docs.scipy.org/doc/numpy/reference/generated/numpy.polynomial.legendre.leggauss.html]\n",
    "[https://docs.scipy.org/doc/numpy/reference/generated/numpy.polynomial.hermite.hermgauss.html]\n",
    "[https://docs.scipy.org/doc/numpy/reference/generated/numpy.polynomial.laguerre.laggauss.html]"
   ]
  },
  {
   "cell_type": "code",
   "execution_count": 4,
   "metadata": {
    "collapsed": true
   },
   "outputs": [],
   "source": [
    "def weight_root(func=np.polynomial.legendre.leggauss, up = 11):\n",
    "    x_GL = []\n",
    "    w_GL = []\n",
    "    for i in range(2,up):\n",
    "        x,w = func(i)\n",
    "        x_GL += [x]\n",
    "        w_GL += [w]\n",
    "    return x_GL, w_GL"
   ]
  },
  {
   "cell_type": "code",
   "execution_count": 5,
   "metadata": {},
   "outputs": [
    {
     "data": {
      "text/plain": [
       "([array([-0.57735027,  0.57735027]),\n",
       "  array([-0.77459667,  0.        ,  0.77459667]),\n",
       "  array([-0.86113631, -0.33998104,  0.33998104,  0.86113631]),\n",
       "  array([-0.90617985, -0.53846931,  0.        ,  0.53846931,  0.90617985]),\n",
       "  array([-0.93246951, -0.66120939, -0.23861919,  0.23861919,  0.66120939,\n",
       "          0.93246951]),\n",
       "  array([-0.94910791, -0.74153119, -0.40584515,  0.        ,  0.40584515,\n",
       "          0.74153119,  0.94910791]),\n",
       "  array([-0.96028986, -0.79666648, -0.52553241, -0.18343464,  0.18343464,\n",
       "          0.52553241,  0.79666648,  0.96028986]),\n",
       "  array([-0.96816024, -0.83603111, -0.61337143, -0.32425342,  0.        ,\n",
       "          0.32425342,  0.61337143,  0.83603111,  0.96816024]),\n",
       "  array([-0.97390653, -0.86506337, -0.67940957, -0.43339539, -0.14887434,\n",
       "          0.14887434,  0.43339539,  0.67940957,  0.86506337,  0.97390653])],\n",
       " [array([1., 1.]),\n",
       "  array([0.55555556, 0.88888889, 0.55555556]),\n",
       "  array([0.34785485, 0.65214515, 0.65214515, 0.34785485]),\n",
       "  array([0.23692689, 0.47862867, 0.56888889, 0.47862867, 0.23692689]),\n",
       "  array([0.17132449, 0.36076157, 0.46791393, 0.46791393, 0.36076157,\n",
       "         0.17132449]),\n",
       "  array([0.12948497, 0.27970539, 0.38183005, 0.41795918, 0.38183005,\n",
       "         0.27970539, 0.12948497]),\n",
       "  array([0.10122854, 0.22238103, 0.31370665, 0.36268378, 0.36268378,\n",
       "         0.31370665, 0.22238103, 0.10122854]),\n",
       "  array([0.08127439, 0.18064816, 0.2606107 , 0.31234708, 0.33023936,\n",
       "         0.31234708, 0.2606107 , 0.18064816, 0.08127439]),\n",
       "  array([0.06667134, 0.14945135, 0.21908636, 0.26926672, 0.29552422,\n",
       "         0.29552422, 0.26926672, 0.21908636, 0.14945135, 0.06667134])])"
      ]
     },
     "execution_count": 5,
     "metadata": {},
     "output_type": "execute_result"
    }
   ],
   "source": [
    "weight_root(np.polynomial.legendre.leggauss)"
   ]
  },
  {
   "cell_type": "code",
   "execution_count": 6,
   "metadata": {},
   "outputs": [
    {
     "data": {
      "text/plain": [
       "([array([-0.70710678,  0.70710678]),\n",
       "  array([-1.22474487,  0.        ,  1.22474487]),\n",
       "  array([-1.65068012, -0.52464762,  0.52464762,  1.65068012]),\n",
       "  array([-2.02018287, -0.95857246,  0.        ,  0.95857246,  2.02018287]),\n",
       "  array([-2.35060497, -1.33584907, -0.43607741,  0.43607741,  1.33584907,\n",
       "          2.35060497]),\n",
       "  array([-2.65196136, -1.67355163, -0.81628788,  0.        ,  0.81628788,\n",
       "          1.67355163,  2.65196136]),\n",
       "  array([-2.93063742, -1.98165676, -1.15719371, -0.38118699,  0.38118699,\n",
       "          1.15719371,  1.98165676,  2.93063742]),\n",
       "  array([-3.1909932 , -2.26658058, -1.46855329, -0.72355102,  0.        ,\n",
       "          0.72355102,  1.46855329,  2.26658058,  3.1909932 ]),\n",
       "  array([-3.43615912, -2.53273167, -1.75668365, -1.03661083, -0.34290133,\n",
       "          0.34290133,  1.03661083,  1.75668365,  2.53273167,  3.43615912])],\n",
       " [array([0.88622693, 0.88622693]),\n",
       "  array([0.29540898, 1.1816359 , 0.29540898]),\n",
       "  array([0.08131284, 0.80491409, 0.80491409, 0.08131284]),\n",
       "  array([0.01995324, 0.39361932, 0.94530872, 0.39361932, 0.01995324]),\n",
       "  array([0.00453001, 0.15706732, 0.7246296 , 0.7246296 , 0.15706732,\n",
       "         0.00453001]),\n",
       "  array([0.00097178, 0.05451558, 0.42560725, 0.81026462, 0.42560725,\n",
       "         0.05451558, 0.00097178]),\n",
       "  array([1.99604072e-04, 1.70779830e-02, 2.07802326e-01, 6.61147013e-01,\n",
       "         6.61147013e-01, 2.07802326e-01, 1.70779830e-02, 1.99604072e-04]),\n",
       "  array([3.96069773e-05, 4.94362428e-03, 8.84745274e-02, 4.32651559e-01,\n",
       "         7.20235216e-01, 4.32651559e-01, 8.84745274e-02, 4.94362428e-03,\n",
       "         3.96069773e-05]),\n",
       "  array([7.64043286e-06, 1.34364575e-03, 3.38743945e-02, 2.40138611e-01,\n",
       "         6.10862634e-01, 6.10862634e-01, 2.40138611e-01, 3.38743945e-02,\n",
       "         1.34364575e-03, 7.64043286e-06])])"
      ]
     },
     "execution_count": 6,
     "metadata": {},
     "output_type": "execute_result"
    }
   ],
   "source": [
    "weight_root(np.polynomial.hermite.hermgauss)"
   ]
  },
  {
   "cell_type": "code",
   "execution_count": 32,
   "metadata": {},
   "outputs": [
    {
     "data": {
      "text/plain": [
       "([array([0.58578644, 3.41421356]),\n",
       "  array([0.41577456, 2.29428036, 6.28994508]),\n",
       "  array([0.32254769, 1.7457611 , 4.5366203 , 9.39507091]),\n",
       "  array([ 0.26356032,  1.41340306,  3.59642577,  7.08581001, 12.64080084]),\n",
       "  array([ 0.2228466 ,  1.1889321 ,  2.99273633,  5.77514357,  9.83746742,\n",
       "         15.98287398]),\n",
       "  array([ 0.19304368,  1.0266649 ,  2.56787674,  4.90035308,  8.18215344,\n",
       "         12.73418029, 19.39572786]),\n",
       "  array([ 0.17027963,  0.90370178,  2.25108663,  4.26670017,  7.0459054 ,\n",
       "         10.75851601, 15.74067864, 22.86313174]),\n",
       "  array([ 0.15232223,  0.80722002,  2.00513516,  3.78347397,  6.20495678,\n",
       "          9.37298525, 13.46623691, 18.83359779, 26.37407189]),\n",
       "  array([ 0.13779347,  0.72945455,  1.8083429 ,  3.4014337 ,  5.55249614,\n",
       "          8.33015275, 11.84378584, 16.27925783, 21.99658581, 29.92069701])],\n",
       " [array([0.85355339, 0.14644661]),\n",
       "  array([0.71109301, 0.27851773, 0.01038926]),\n",
       "  array([6.03154104e-01, 3.57418692e-01, 3.88879085e-02, 5.39294706e-04]),\n",
       "  array([5.21755611e-01, 3.98666811e-01, 7.59424497e-02, 3.61175868e-03,\n",
       "         2.33699724e-05]),\n",
       "  array([4.58964674e-01, 4.17000831e-01, 1.13373382e-01, 1.03991975e-02,\n",
       "         2.61017203e-04, 8.98547906e-07]),\n",
       "  array([4.09318952e-01, 4.21831278e-01, 1.47126349e-01, 2.06335145e-02,\n",
       "         1.07401014e-03, 1.58654643e-05, 3.17031548e-08]),\n",
       "  array([3.69188589e-01, 4.18786781e-01, 1.75794987e-01, 3.33434923e-02,\n",
       "         2.79453624e-03, 9.07650877e-05, 8.48574672e-07, 1.04800117e-09]),\n",
       "  array([3.36126422e-01, 4.11213980e-01, 1.99287525e-01, 4.74605628e-02,\n",
       "         5.59962661e-03, 3.05249767e-04, 6.59212303e-06, 4.11076933e-08,\n",
       "         3.29087403e-11]),\n",
       "  array([3.08441116e-01, 4.01119929e-01, 2.18068288e-01, 6.20874561e-02,\n",
       "         9.50151698e-03, 7.53008389e-04, 2.82592335e-05, 4.24931398e-07,\n",
       "         1.83956482e-09, 9.91182722e-13])])"
      ]
     },
     "execution_count": 32,
     "metadata": {},
     "output_type": "execute_result"
    }
   ],
   "source": [
    "weight_root(np.polynomial.laguerre.laggauss)"
   ]
  },
  {
   "cell_type": "markdown",
   "metadata": {},
   "source": [
    "$$ \n",
    "\\int _0 ^1 (x+5)^{(1/4)}dx = 1.53101085947\n",
    "$$"
   ]
  },
  {
   "cell_type": "code",
   "execution_count": 44,
   "metadata": {},
   "outputs": [
    {
     "data": {
      "text/plain": [
       "1.5310108594666627"
      ]
     },
     "execution_count": 44,
     "metadata": {},
     "output_type": "execute_result"
    }
   ],
   "source": [
    "a,b = 0.,1.\n",
    "test1 = lambda x: (x+5)**(1/4)\n",
    "integrate.romberg(test1, a, b, show=False)"
   ]
  },
  {
   "cell_type": "code",
   "execution_count": 46,
   "metadata": {},
   "outputs": [
    {
     "name": "stdout",
     "output_type": "stream",
     "text": [
      "(3, 1.5310108599123369)\n",
      "(5, 1.531010859466898)\n",
      "(7, 1.531010859466897)\n",
      "(10, 1.5310108594668972)\n",
      "(13, 1.531010859466897)\n",
      "(15, 1.5310108594668963)\n"
     ]
    }
   ],
   "source": [
    "test1_cv = lambda x: test1(a+(b-a)*(x+1.)/2)\n",
    "nodes_vec = [3, 5, 7, 10, 13, 15]\n",
    "\n",
    "x_GL, w_GL = weight_root(up=16)\n",
    "I1_GL = np.zeros(len(nodes_vec))\n",
    "for i,n in enumerate(nodes_vec):\n",
    "    roots = np.array(x_GL[n-2])\n",
    "    I1_GL[i] = (b-a)/2*( test1_cv(roots)@w_GL[n-2] )\n",
    "    print((n, I1_GL[i]))   "
   ]
  }
 ],
 "metadata": {
  "anaconda-cloud": {},
  "kernelspec": {
   "display_name": "Python 3",
   "language": "python",
   "name": "python3"
  },
  "language_info": {
   "codemirror_mode": {
    "name": "ipython",
    "version": 3
   },
   "file_extension": ".py",
   "mimetype": "text/x-python",
   "name": "python",
   "nbconvert_exporter": "python",
   "pygments_lexer": "ipython3",
   "version": "3.6.4"
  }
 },
 "nbformat": 4,
 "nbformat_minor": 2
}
