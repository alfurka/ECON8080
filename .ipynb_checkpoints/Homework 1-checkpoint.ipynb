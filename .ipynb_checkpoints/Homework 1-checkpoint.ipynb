{
 "cells": [
  {
   "cell_type": "markdown",
   "metadata": {},
   "source": [
    "# ECON8080 Homework 1"
   ]
  },
  {
   "cell_type": "code",
   "execution_count": 3,
   "metadata": {
    "collapsed": true
   },
   "outputs": [],
   "source": [
    "import numpy as np"
   ]
  },
  {
   "cell_type": "markdown",
   "metadata": {},
   "source": [
    "## Question 1"
   ]
  },
  {
   "cell_type": "markdown",
   "metadata": {},
   "source": [
    "## Question 2"
   ]
  },
  {
   "cell_type": "code",
   "execution_count": 5,
   "metadata": {},
   "outputs": [
    {
     "name": "stdout",
     "output_type": "stream",
     "text": [
      "Enter a number: 1\n",
      "It is a positive odd number.\n"
     ]
    }
   ],
   "source": [
    "number = input('Enter a number: ')\n",
    "if number.isnumeric():\n",
    "    if int(number)%2 == 0:\n",
    "        print('It is a positive even number.')\n",
    "    else:\n",
    "        print('It is a positive odd number.')\n",
    "else:\n",
    "    print('It is either negative or non-integer number.')"
   ]
  },
  {
   "cell_type": "markdown",
   "metadata": {},
   "source": [
    "## Question 3"
   ]
  },
  {
   "cell_type": "code",
   "execution_count": 6,
   "metadata": {},
   "outputs": [
    {
     "name": "stdout",
     "output_type": "stream",
     "text": [
      "Enter a number: 2.2\n"
     ]
    }
   ],
   "source": [
    "number = input('Enter a number: ')\n",
    "try:\n",
    "    number=int(number)\n",
    "    if number <0:\n",
    "        print('It is a negative number')\n",
    "    elif number%2 == 0 and number>=0:\n",
    "        print('It is a positive even number.')\n",
    "    else:\n",
    "        print('It is a positive odd number.')\n",
    "except:\n",
    "    try:\n",
    "        number = float(number)\n",
    "    except:\n",
    "        print('It is not a number')"
   ]
  },
  {
   "cell_type": "markdown",
   "metadata": {},
   "source": [
    "## Question 4"
   ]
  },
  {
   "cell_type": "code",
   "execution_count": 7,
   "metadata": {
    "collapsed": true
   },
   "outputs": [],
   "source": [
    "def converge(x, tolerance=0.0001):\n",
    "    print(x)\n",
    "    while True:\n",
    "        compare = x\n",
    "        x = 1 + 1/x\n",
    "        print(x)\n",
    "        if (np.absolute(x-compare)/compare<tolerance):\n",
    "            break"
   ]
  },
  {
   "cell_type": "code",
   "execution_count": 11,
   "metadata": {},
   "outputs": [
    {
     "name": "stdout",
     "output_type": "stream",
     "text": [
      "3\n",
      "1.3333333333333333\n",
      "1.75\n",
      "1.5714285714285714\n",
      "1.6363636363636362\n",
      "1.6111111111111112\n",
      "1.6206896551724137\n",
      "1.6170212765957448\n",
      "1.6184210526315788\n",
      "1.6178861788617886\n",
      "1.6180904522613067\n",
      "1.6180124223602483\n"
     ]
    }
   ],
   "source": [
    "converge(3)"
   ]
  },
  {
   "cell_type": "markdown",
   "metadata": {},
   "source": [
    "## Question 5"
   ]
  },
  {
   "cell_type": "code",
   "execution_count": 24,
   "metadata": {
    "collapsed": true
   },
   "outputs": [],
   "source": [
    "def T(n):\n",
    "    if n==0:\n",
    "        return [1]\n",
    "    elif n ==1:\n",
    "        return [1,0]\n",
    "    else:\n",
    "        return (np.polymul(np.poly1d([2,0]),np.poly1d(T(n-1))) - np.poly1d(T(n-2))).coefficients"
   ]
  },
  {
   "cell_type": "code",
   "execution_count": 25,
   "metadata": {
    "collapsed": true
   },
   "outputs": [],
   "source": [
    "def program(i):\n",
    "    matrix = []\n",
    "    for i_ in range(i+1):\n",
    "        matrix.append(np.pad(T(i_)[::-1], pad_width=(0,i+1-len(T(i_))),mode = 'constant',constant_values=0))\n",
    "    return np.array(matrix)"
   ]
  },
  {
   "cell_type": "code",
   "execution_count": 27,
   "metadata": {},
   "outputs": [],
   "source": [
    "Tmat = program(5)"
   ]
  },
  {
   "cell_type": "code",
   "execution_count": 28,
   "metadata": {},
   "outputs": [
    {
     "data": {
      "text/plain": [
       "array([[  1,   0,   0,   0,   0,   0],\n",
       "       [  0,   1,   0,   0,   0,   0],\n",
       "       [ -1,   0,   2,   0,   0,   0],\n",
       "       [  0,  -3,   0,   4,   0,   0],\n",
       "       [  1,   0,  -8,   0,   8,   0],\n",
       "       [  0,   5,   0, -20,   0,  16]])"
      ]
     },
     "execution_count": 28,
     "metadata": {},
     "output_type": "execute_result"
    }
   ],
   "source": [
    "Tmat"
   ]
  }
 ],
 "metadata": {
  "kernelspec": {
   "display_name": "Python 3",
   "language": "python",
   "name": "python3"
  },
  "language_info": {
   "codemirror_mode": {
    "name": "ipython",
    "version": 3
   },
   "file_extension": ".py",
   "mimetype": "text/x-python",
   "name": "python",
   "nbconvert_exporter": "python",
   "pygments_lexer": "ipython3",
   "version": "3.6.4"
  }
 },
 "nbformat": 4,
 "nbformat_minor": 2
}
