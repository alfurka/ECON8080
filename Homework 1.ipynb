{
 "cells": [
  {
   "cell_type": "markdown",
   "metadata": {},
   "source": [
    "# ECON8080 Homework 1"
   ]
  },
  {
   "cell_type": "markdown",
   "metadata": {},
   "source": [
    "**Name**: Ali Furkan Kalay\n",
    "\n",
    "**ID:** 45625365"
   ]
  },
  {
   "cell_type": "code",
   "execution_count": 1,
   "metadata": {
    "collapsed": true
   },
   "outputs": [],
   "source": [
    "import numpy as np"
   ]
  },
  {
   "cell_type": "markdown",
   "metadata": {},
   "source": [
    "## Question 1"
   ]
  },
  {
   "cell_type": "code",
   "execution_count": 2,
   "metadata": {},
   "outputs": [],
   "source": [
    "n = 10\n",
    "x = np.random.rand()      # Initializing random x value\n",
    "a = np.random.randn(n)    # Initializing random a in R^n\n",
    "\n",
    "def horner(x,a):\n",
    "    p = 0.0\n",
    "    for i in reversed(range(0,len(a))):        # In order to iterate from n-1 to 0 I reversed() the range(0,n)\n",
    "        p = a[i] + p*x           #\n",
    "        print(i)\n",
    "    return p "
   ]
  },
  {
   "cell_type": "code",
   "execution_count": 3,
   "metadata": {},
   "outputs": [
    {
     "name": "stdout",
     "output_type": "stream",
     "text": [
      "9\n",
      "8\n",
      "7\n",
      "6\n",
      "5\n",
      "4\n",
      "3\n",
      "2\n",
      "1\n",
      "0\n"
     ]
    },
    {
     "data": {
      "text/plain": [
       "0.33465191122388954"
      ]
     },
     "execution_count": 3,
     "metadata": {},
     "output_type": "execute_result"
    }
   ],
   "source": [
    "horner(x,a)"
   ]
  },
  {
   "cell_type": "markdown",
   "metadata": {},
   "source": [
    "## Question 2"
   ]
  },
  {
   "cell_type": "markdown",
   "metadata": {},
   "source": [
    "I use *string*.`isnumeric()` function to check if input contains any non-digit character. `isnumeric()` function returns FALSE if input is negative. Therefore it is not necessary to check if it is negative. So any non-positive number or nonnumeric value returns false."
   ]
  },
  {
   "cell_type": "code",
   "execution_count": 4,
   "metadata": {},
   "outputs": [
    {
     "name": "stdout",
     "output_type": "stream",
     "text": [
      "Enter a number: 5\n",
      "It is a positive odd number.\n"
     ]
    }
   ],
   "source": [
    "number = input('Enter a number: ')\n",
    "if number.isnumeric():\n",
    "    if int(number)%2 == 0:\n",
    "        print('It is a positive even number.')\n",
    "    else:\n",
    "        print('It is a positive odd number.')\n",
    "else:\n",
    "    print('It is either negative or non-integer number.')"
   ]
  },
  {
   "cell_type": "markdown",
   "metadata": {},
   "source": [
    "## Question 3"
   ]
  },
  {
   "cell_type": "markdown",
   "metadata": {},
   "source": [
    "If the input string cannot be converted into a integer or float then it implies string is not a number. The first control is done in the previous question. For the second, we will check if string can be converted into a `float` object. Instead of `if` statement I use exception handling method `try`. If `float()` gives any error then string is not a number. "
   ]
  },
  {
   "cell_type": "code",
   "execution_count": 5,
   "metadata": {},
   "outputs": [
    {
     "name": "stdout",
     "output_type": "stream",
     "text": [
      "Enter a number: O\n",
      "It is not a number.\n"
     ]
    }
   ],
   "source": [
    "number = input('Enter a number: ')\n",
    "\n",
    "if number.isnumeric():\n",
    "    if int(number)%2 == 0:\n",
    "        print('It is a positive even number.')\n",
    "    else:\n",
    "        print('It is a positive odd number.')\n",
    "else:\n",
    "    try:\n",
    "        float(number)\n",
    "        print('It is either negative or non-integer number.')\n",
    "    except:\n",
    "        print('It is not a number.')"
   ]
  },
  {
   "cell_type": "markdown",
   "metadata": {},
   "source": [
    "## Question 4"
   ]
  },
  {
   "cell_type": "code",
   "execution_count": 6,
   "metadata": {
    "collapsed": true
   },
   "outputs": [],
   "source": [
    "def converge(x, tolerance=1e-8):     # I assigned a default value for tolerance. \n",
    "    print(x)\n",
    "    while True:\n",
    "        compare = x                  # At the beginning of the loops I assign x_n to a variable\n",
    "        x = 1 + 1/x                  # This is x_(n+1)\n",
    "        print(x)                     # Printing x_(n+1)\n",
    "        if (np.absolute(x-compare)/compare<tolerance):         #Tolerance condition: |x_(n+1)-x_n|<tolerance\n",
    "            break          # After satisfying the tolerance condition the loop will break/stop. "
   ]
  },
  {
   "cell_type": "code",
   "execution_count": 7,
   "metadata": {},
   "outputs": [
    {
     "name": "stdout",
     "output_type": "stream",
     "text": [
      "200\n",
      "1.005\n",
      "1.9950248756218907\n",
      "1.5012468827930174\n",
      "1.6661129568106312\n",
      "1.6001994017946162\n",
      "1.6249221183800624\n",
      "1.6154141104294477\n",
      "1.6190363161642536\n",
      "1.6176513707667497\n",
      "1.618180170382454\n",
      "1.6179781573788854\n",
      "1.6180553151718646\n",
      "1.618025842888927\n",
      "1.6180371002075813\n",
      "1.6180328002810986\n",
      "1.6180344427049138\n",
      "1.6180338153545555\n",
      "1.6180340549810281\n",
      "1.6180339634518541\n",
      "1.6180339984128866\n",
      "1.6180339850589605\n"
     ]
    }
   ],
   "source": [
    "converge(200)"
   ]
  },
  {
   "cell_type": "markdown",
   "metadata": {},
   "source": [
    "## Question 5"
   ]
  },
  {
   "cell_type": "markdown",
   "metadata": {},
   "source": [
    "I used numpy's `polymul` function for polynomial multiplication. First I define a recursive function that generates the polynom coefficients for $ T_n(x) $. Since $ T_0 $ and $ T_1 $ are initially given we define it under a if clause. "
   ]
  },
  {
   "cell_type": "code",
   "execution_count": 8,
   "metadata": {
    "collapsed": true
   },
   "outputs": [],
   "source": [
    "def T(n):\n",
    "    if n==0:\n",
    "        return [1]\n",
    "    elif n ==1:\n",
    "        return [1,0]\n",
    "    else:\n",
    "        return (np.polymul(np.poly1d([2,0]),np.poly1d(T(n-1))) - np.poly1d(T(n-2))).coefficients "
   ]
  },
  {
   "cell_type": "markdown",
   "metadata": {},
   "source": [
    "The code inside the last return function stands for the $$ T_{n+1} = 2x T_n(x) - T_{n-1}(x) $$ \n",
    "\n",
    "Also note that `np.poly1d([2,0]` stands for the $ 2x $. The order of coefficients is opposite in numpy library so we will reverse it later. e.g. $ T_5(x) $ coefficients starts from $x^5$:"
   ]
  },
  {
   "cell_type": "code",
   "execution_count": 9,
   "metadata": {
    "scrolled": true
   },
   "outputs": [
    {
     "data": {
      "text/plain": [
       "array([ 16,   0, -20,   0,   5,   0])"
      ]
     },
     "execution_count": 9,
     "metadata": {},
     "output_type": "execute_result"
    }
   ],
   "source": [
    "T(5)"
   ]
  },
  {
   "cell_type": "markdown",
   "metadata": {},
   "source": [
    "Now we will define the function that generates `Tmat` matrix. I use `numpy.pad()` function to fill empty columns. "
   ]
  },
  {
   "cell_type": "code",
   "execution_count": 10,
   "metadata": {
    "collapsed": true
   },
   "outputs": [],
   "source": [
    "def Tmat_gen(N):\n",
    "    matrix = []\n",
    "    for i in range(N+1):\n",
    "        matrix.append(np.pad(T(i)[::-1], pad_width=(0,N+1-len(T(i))),mode = 'constant',constant_values=0))\n",
    "    return np.array(matrix)"
   ]
  },
  {
   "cell_type": "markdown",
   "metadata": {},
   "source": [
    "- I generate an empty list `matrix = []` to append each row. \n",
    "- Since we require $(N+1)\\times (N+1)$ matrix we iterate `range(N+1)`.\n",
    "- `T(i)[::-1]` is reversing the order of coefficients. \n",
    "- `np.pad()` function fill 0s for empty columns. For each $T_n$ we have different pad width: `pad_width=(0,N+1-len(T(i)))`.\n",
    "- We append coefficient rows from $ T_0$ to $T_n$ to `matrix` variable and return it as an numpy array. "
   ]
  },
  {
   "cell_type": "markdown",
   "metadata": {},
   "source": [
    "For $N = 5$:"
   ]
  },
  {
   "cell_type": "code",
   "execution_count": 11,
   "metadata": {},
   "outputs": [],
   "source": [
    "Tmat = Tmat_gen(5)"
   ]
  },
  {
   "cell_type": "code",
   "execution_count": 16,
   "metadata": {},
   "outputs": [
    {
     "name": "stdout",
     "output_type": "stream",
     "text": [
      "<class 'numpy.ndarray'>\n"
     ]
    }
   ],
   "source": [
    "print(type(Tmat))"
   ]
  },
  {
   "cell_type": "code",
   "execution_count": 15,
   "metadata": {},
   "outputs": [
    {
     "name": "stdout",
     "output_type": "stream",
     "text": [
      "[[  1   0   0   0   0   0]\n",
      " [  0   1   0   0   0   0]\n",
      " [ -1   0   2   0   0   0]\n",
      " [  0  -3   0   4   0   0]\n",
      " [  1   0  -8   0   8   0]\n",
      " [  0   5   0 -20   0  16]]\n"
     ]
    }
   ],
   "source": [
    "print(Tmat)"
   ]
  },
  {
   "cell_type": "markdown",
   "metadata": {},
   "source": [
    "`Tmat[i,j]` stores the coefficient of $x^j$ in $T_i(x)$ for $i,j\\in\\{0,1,...5\\}$. e.g."
   ]
  },
  {
   "cell_type": "code",
   "execution_count": 13,
   "metadata": {},
   "outputs": [
    {
     "data": {
      "text/plain": [
       "-3"
      ]
     },
     "execution_count": 13,
     "metadata": {},
     "output_type": "execute_result"
    }
   ],
   "source": [
    "Tmat[3,1]"
   ]
  }
 ],
 "metadata": {
  "kernelspec": {
   "display_name": "Python 3",
   "language": "python",
   "name": "python3"
  },
  "language_info": {
   "codemirror_mode": {
    "name": "ipython",
    "version": 3
   },
   "file_extension": ".py",
   "mimetype": "text/x-python",
   "name": "python",
   "nbconvert_exporter": "python",
   "pygments_lexer": "ipython3",
   "version": "3.6.4"
  }
 },
 "nbformat": 4,
 "nbformat_minor": 2
}
