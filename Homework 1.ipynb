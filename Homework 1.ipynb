{
 "cells": [
  {
   "cell_type": "markdown",
   "metadata": {},
   "source": [
    "# ECON8080 Homework 1"
   ]
  },
  {
   "cell_type": "code",
   "execution_count": 26,
   "metadata": {
    "collapsed": true
   },
   "outputs": [],
   "source": [
    "import numpy as np"
   ]
  },
  {
   "cell_type": "markdown",
   "metadata": {},
   "source": [
    "## Question 1"
   ]
  },
  {
   "cell_type": "code",
   "execution_count": 27,
   "metadata": {},
   "outputs": [],
   "source": [
    "n = 5\n",
    "x = np.random.rand()\n",
    "a = np.random.randn(n)\n",
    "\n",
    "def horner(x,a):\n",
    "    p = 0.0\n",
    "    for i in range(len(a)):\n",
    "        p = a[len(a)-1-i] + p*x\n",
    "        print(len(a)-1-i)\n",
    "    return p "
   ]
  },
  {
   "cell_type": "code",
   "execution_count": 28,
   "metadata": {},
   "outputs": [
    {
     "name": "stdout",
     "output_type": "stream",
     "text": [
      "4\n",
      "3\n",
      "2\n",
      "1\n",
      "0\n"
     ]
    },
    {
     "data": {
      "text/plain": [
       "-0.14446555403986075"
      ]
     },
     "execution_count": 28,
     "metadata": {},
     "output_type": "execute_result"
    }
   ],
   "source": [
    "horner(x,a)"
   ]
  },
  {
   "cell_type": "markdown",
   "metadata": {},
   "source": [
    "## Question 2"
   ]
  },
  {
   "cell_type": "code",
   "execution_count": 29,
   "metadata": {},
   "outputs": [
    {
     "name": "stdout",
     "output_type": "stream",
     "text": [
      "Enter a number: 2\n",
      "It is a positive even number.\n"
     ]
    }
   ],
   "source": [
    "number = input('Enter a number: ')\n",
    "if number.isnumeric():\n",
    "    if int(number)%2 == 0:\n",
    "        print('It is a positive even number.')\n",
    "    else:\n",
    "        print('It is a positive odd number.')\n",
    "else:\n",
    "    print('It is either negative or non-integer number.')"
   ]
  },
  {
   "cell_type": "markdown",
   "metadata": {},
   "source": [
    "## Question 3"
   ]
  },
  {
   "cell_type": "code",
   "execution_count": 30,
   "metadata": {},
   "outputs": [
    {
     "name": "stdout",
     "output_type": "stream",
     "text": [
      "Enter a number: 2\n",
      "It is a positive even number.\n"
     ]
    }
   ],
   "source": [
    "number = input('Enter a number: ')\n",
    "try:\n",
    "    number=int(number)\n",
    "    if number <0:\n",
    "        print('It is a negative number')\n",
    "    elif number%2 == 0 and number>=0:\n",
    "        print('It is a positive even number.')\n",
    "    else:\n",
    "        print('It is a positive odd number.')\n",
    "except:\n",
    "    try:\n",
    "        number = float(number)\n",
    "    except:\n",
    "        print('It is not a number')"
   ]
  },
  {
   "cell_type": "markdown",
   "metadata": {},
   "source": [
    "## Question 4"
   ]
  },
  {
   "cell_type": "code",
   "execution_count": 31,
   "metadata": {
    "collapsed": true
   },
   "outputs": [],
   "source": [
    "def converge(x, tolerance=0.0001):\n",
    "    print(x)\n",
    "    while True:\n",
    "        compare = x\n",
    "        x = 1 + 1/x\n",
    "        print(x)\n",
    "        if (np.absolute(x-compare)/compare<tolerance):\n",
    "            break"
   ]
  },
  {
   "cell_type": "code",
   "execution_count": 32,
   "metadata": {},
   "outputs": [
    {
     "name": "stdout",
     "output_type": "stream",
     "text": [
      "200\n",
      "1.005\n",
      "1.9950248756218907\n",
      "1.5012468827930174\n",
      "1.6661129568106312\n",
      "1.6001994017946162\n",
      "1.6249221183800624\n",
      "1.6154141104294477\n",
      "1.6190363161642536\n",
      "1.6176513707667497\n",
      "1.618180170382454\n",
      "1.6179781573788854\n",
      "1.6180553151718646\n"
     ]
    }
   ],
   "source": [
    "converge(200)"
   ]
  },
  {
   "cell_type": "markdown",
   "metadata": {},
   "source": [
    "## Question 5"
   ]
  },
  {
   "cell_type": "code",
   "execution_count": 37,
   "metadata": {
    "collapsed": true
   },
   "outputs": [],
   "source": [
    "def T(n):\n",
    "    if n==0:\n",
    "        return [1]\n",
    "    elif n ==1:\n",
    "        return [1,0]\n",
    "    else:\n",
    "        return (np.polymul(np.poly1d([2,0]),np.poly1d(T(n-1))) - np.poly1d(T(n-2))).coefficients"
   ]
  },
  {
   "cell_type": "code",
   "execution_count": 38,
   "metadata": {
    "collapsed": true
   },
   "outputs": [],
   "source": [
    "def Tmat_gen(i):\n",
    "    matrix = []\n",
    "    for i_ in range(i+1):\n",
    "        matrix.append(np.pad(T(i_)[::-1], pad_width=(0,i+1-len(T(i_))),mode = 'constant',constant_values=0))\n",
    "    return np.array(matrix)"
   ]
  },
  {
   "cell_type": "code",
   "execution_count": 39,
   "metadata": {
    "collapsed": true
   },
   "outputs": [],
   "source": [
    "Tmat = Tmat_gen(5)"
   ]
  },
  {
   "cell_type": "code",
   "execution_count": 40,
   "metadata": {},
   "outputs": [
    {
     "data": {
      "text/plain": [
       "array([[  1,   0,   0,   0,   0,   0],\n",
       "       [  0,   1,   0,   0,   0,   0],\n",
       "       [ -1,   0,   2,   0,   0,   0],\n",
       "       [  0,  -3,   0,   4,   0,   0],\n",
       "       [  1,   0,  -8,   0,   8,   0],\n",
       "       [  0,   5,   0, -20,   0,  16]])"
      ]
     },
     "execution_count": 40,
     "metadata": {},
     "output_type": "execute_result"
    }
   ],
   "source": [
    "Tmat"
   ]
  }
 ],
 "metadata": {
  "kernelspec": {
   "display_name": "Python 3",
   "language": "python",
   "name": "python3"
  },
  "language_info": {
   "codemirror_mode": {
    "name": "ipython",
    "version": 3
   },
   "file_extension": ".py",
   "mimetype": "text/x-python",
   "name": "python",
   "nbconvert_exporter": "python",
   "pygments_lexer": "ipython3",
   "version": "3.6.4"
  }
 },
 "nbformat": 4,
 "nbformat_minor": 2
}
